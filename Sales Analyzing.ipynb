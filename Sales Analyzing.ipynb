{
 "cells": [
  {
   "cell_type": "code",
   "execution_count": 1,
   "id": "3bf9cf07-2959-481b-b2d7-9ddaf3c1cabf",
   "metadata": {},
   "outputs": [],
   "source": [
    "import numpy as np\n",
    "import pandas as pd\n",
    "import matplotlib.pyplot as plt\n",
    "import seaborn as sns\n",
    "\n",
    "import warnings \n",
    "warnings.filterwarnings('ignore')"
   ]
  },
  {
   "cell_type": "code",
   "execution_count": 2,
   "id": "e0329bed-308c-4579-9fea-ac2966ff5829",
   "metadata": {},
   "outputs": [
    {
     "data": {
      "text/html": [
       "<div>\n",
       "<style scoped>\n",
       "    .dataframe tbody tr th:only-of-type {\n",
       "        vertical-align: middle;\n",
       "    }\n",
       "\n",
       "    .dataframe tbody tr th {\n",
       "        vertical-align: top;\n",
       "    }\n",
       "\n",
       "    .dataframe thead th {\n",
       "        text-align: right;\n",
       "    }\n",
       "</style>\n",
       "<table border=\"1\" class=\"dataframe\">\n",
       "  <thead>\n",
       "    <tr style=\"text-align: right;\">\n",
       "      <th></th>\n",
       "      <th>product_id</th>\n",
       "      <th>product_name</th>\n",
       "      <th>category</th>\n",
       "      <th>discounted_price</th>\n",
       "      <th>actual_price</th>\n",
       "      <th>discount_percentage</th>\n",
       "      <th>rating</th>\n",
       "      <th>rating_count</th>\n",
       "      <th>about_product</th>\n",
       "      <th>user_id</th>\n",
       "      <th>user_name</th>\n",
       "      <th>review_id</th>\n",
       "      <th>review_title</th>\n",
       "      <th>review_content</th>\n",
       "      <th>img_link</th>\n",
       "      <th>product_link</th>\n",
       "    </tr>\n",
       "  </thead>\n",
       "  <tbody>\n",
       "    <tr>\n",
       "      <th>0</th>\n",
       "      <td>B07JW9H4J1</td>\n",
       "      <td>Wayona Nylon Braided USB to Lightning Fast Cha...</td>\n",
       "      <td>Computers&amp;Accessories|Accessories&amp;Peripherals|...</td>\n",
       "      <td>₹399</td>\n",
       "      <td>₹1,099</td>\n",
       "      <td>64%</td>\n",
       "      <td>4.2</td>\n",
       "      <td>24,269</td>\n",
       "      <td>High Compatibility : Compatible With iPhone 12...</td>\n",
       "      <td>AG3D6O4STAQKAY2UVGEUV46KN35Q,AHMY5CWJMMK5BJRBB...</td>\n",
       "      <td>Manav,Adarsh gupta,Sundeep,S.Sayeed Ahmed,jasp...</td>\n",
       "      <td>R3HXWT0LRP0NMF,R2AJM3LFTLZHFO,R6AQJGUP6P86,R1K...</td>\n",
       "      <td>Satisfied,Charging is really fast,Value for mo...</td>\n",
       "      <td>Looks durable Charging is fine tooNo complains...</td>\n",
       "      <td>https://m.media-amazon.com/images/W/WEBP_40237...</td>\n",
       "      <td>https://www.amazon.in/Wayona-Braided-WN3LG1-Sy...</td>\n",
       "    </tr>\n",
       "    <tr>\n",
       "      <th>1</th>\n",
       "      <td>B098NS6PVG</td>\n",
       "      <td>Ambrane Unbreakable 60W / 3A Fast Charging 1.5...</td>\n",
       "      <td>Computers&amp;Accessories|Accessories&amp;Peripherals|...</td>\n",
       "      <td>₹199</td>\n",
       "      <td>₹349</td>\n",
       "      <td>43%</td>\n",
       "      <td>4.0</td>\n",
       "      <td>43,994</td>\n",
       "      <td>Compatible with all Type C enabled devices, be...</td>\n",
       "      <td>AECPFYFQVRUWC3KGNLJIOREFP5LQ,AGYYVPDD7YG7FYNBX...</td>\n",
       "      <td>ArdKn,Nirbhay kumar,Sagar Viswanathan,Asp,Plac...</td>\n",
       "      <td>RGIQEG07R9HS2,R1SMWZQ86XIN8U,R2J3Y1WL29GWDE,RY...</td>\n",
       "      <td>A Good Braided Cable for Your Type C Device,Go...</td>\n",
       "      <td>I ordered this cable to connect my phone to An...</td>\n",
       "      <td>https://m.media-amazon.com/images/W/WEBP_40237...</td>\n",
       "      <td>https://www.amazon.in/Ambrane-Unbreakable-Char...</td>\n",
       "    </tr>\n",
       "    <tr>\n",
       "      <th>2</th>\n",
       "      <td>B096MSW6CT</td>\n",
       "      <td>Sounce Fast Phone Charging Cable &amp; Data Sync U...</td>\n",
       "      <td>Computers&amp;Accessories|Accessories&amp;Peripherals|...</td>\n",
       "      <td>₹199</td>\n",
       "      <td>₹1,899</td>\n",
       "      <td>90%</td>\n",
       "      <td>3.9</td>\n",
       "      <td>7,928</td>\n",
       "      <td>【 Fast Charger&amp; Data Sync】-With built-in safet...</td>\n",
       "      <td>AGU3BBQ2V2DDAMOAKGFAWDDQ6QHA,AESFLDV2PT363T2AQ...</td>\n",
       "      <td>Kunal,Himanshu,viswanath,sai niharka,saqib mal...</td>\n",
       "      <td>R3J3EQQ9TZI5ZJ,R3E7WBGK7ID0KV,RWU79XKQ6I1QF,R2...</td>\n",
       "      <td>Good speed for earlier versions,Good Product,W...</td>\n",
       "      <td>Not quite durable and sturdy,https://m.media-a...</td>\n",
       "      <td>https://m.media-amazon.com/images/W/WEBP_40237...</td>\n",
       "      <td>https://www.amazon.in/Sounce-iPhone-Charging-C...</td>\n",
       "    </tr>\n",
       "    <tr>\n",
       "      <th>3</th>\n",
       "      <td>B08HDJ86NZ</td>\n",
       "      <td>boAt Deuce USB 300 2 in 1 Type-C &amp; Micro USB S...</td>\n",
       "      <td>Computers&amp;Accessories|Accessories&amp;Peripherals|...</td>\n",
       "      <td>₹329</td>\n",
       "      <td>₹699</td>\n",
       "      <td>53%</td>\n",
       "      <td>4.2</td>\n",
       "      <td>94,363</td>\n",
       "      <td>The boAt Deuce USB 300 2 in 1 cable is compati...</td>\n",
       "      <td>AEWAZDZZJLQUYVOVGBEUKSLXHQ5A,AG5HTSFRRE6NL3M5S...</td>\n",
       "      <td>Omkar dhale,JD,HEMALATHA,Ajwadh a.,amar singh ...</td>\n",
       "      <td>R3EEUZKKK9J36I,R3HJVYCLYOY554,REDECAZ7AMPQC,R1...</td>\n",
       "      <td>Good product,Good one,Nice,Really nice product...</td>\n",
       "      <td>Good product,long wire,Charges good,Nice,I bou...</td>\n",
       "      <td>https://m.media-amazon.com/images/I/41V5FtEWPk...</td>\n",
       "      <td>https://www.amazon.in/Deuce-300-Resistant-Tang...</td>\n",
       "    </tr>\n",
       "    <tr>\n",
       "      <th>4</th>\n",
       "      <td>B08CF3B7N1</td>\n",
       "      <td>Portronics Konnect L 1.2M Fast Charging 3A 8 P...</td>\n",
       "      <td>Computers&amp;Accessories|Accessories&amp;Peripherals|...</td>\n",
       "      <td>₹154</td>\n",
       "      <td>₹399</td>\n",
       "      <td>61%</td>\n",
       "      <td>4.2</td>\n",
       "      <td>16,905</td>\n",
       "      <td>[CHARGE &amp; SYNC FUNCTION]- This cable comes wit...</td>\n",
       "      <td>AE3Q6KSUK5P75D5HFYHCRAOLODSA,AFUGIFH5ZAFXRDSZH...</td>\n",
       "      <td>rahuls6099,Swasat Borah,Ajay Wadke,Pranali,RVK...</td>\n",
       "      <td>R1BP4L2HH9TFUP,R16PVJEXKV6QZS,R2UPDB81N66T4P,R...</td>\n",
       "      <td>As good as original,Decent,Good one for second...</td>\n",
       "      <td>Bought this instead of original apple, does th...</td>\n",
       "      <td>https://m.media-amazon.com/images/W/WEBP_40237...</td>\n",
       "      <td>https://www.amazon.in/Portronics-Konnect-POR-1...</td>\n",
       "    </tr>\n",
       "    <tr>\n",
       "      <th>...</th>\n",
       "      <td>...</td>\n",
       "      <td>...</td>\n",
       "      <td>...</td>\n",
       "      <td>...</td>\n",
       "      <td>...</td>\n",
       "      <td>...</td>\n",
       "      <td>...</td>\n",
       "      <td>...</td>\n",
       "      <td>...</td>\n",
       "      <td>...</td>\n",
       "      <td>...</td>\n",
       "      <td>...</td>\n",
       "      <td>...</td>\n",
       "      <td>...</td>\n",
       "      <td>...</td>\n",
       "      <td>...</td>\n",
       "    </tr>\n",
       "    <tr>\n",
       "      <th>1460</th>\n",
       "      <td>B08L7J3T31</td>\n",
       "      <td>Noir Aqua - 5pcs PP Spun Filter + 1 Spanner | ...</td>\n",
       "      <td>Home&amp;Kitchen|Kitchen&amp;HomeAppliances|WaterPurif...</td>\n",
       "      <td>₹379</td>\n",
       "      <td>₹919</td>\n",
       "      <td>59%</td>\n",
       "      <td>4</td>\n",
       "      <td>1,090</td>\n",
       "      <td>SUPREME QUALITY 90 GRAM 3 LAYER THIK PP SPUN F...</td>\n",
       "      <td>AHITFY6AHALOFOHOZEOC6XBP4FEA,AFRABBODZJZQB6Z4U...</td>\n",
       "      <td>Prabha ds,Raghuram bk,Real Deal,Amazon Custome...</td>\n",
       "      <td>R3G3XFHPBFF0E8,R3C0BZCD32EIGW,R2EBVBCN9QPD9R,R...</td>\n",
       "      <td>Received the product without spanner,Excellent...</td>\n",
       "      <td>I received product without spanner,Excellent p...</td>\n",
       "      <td>https://m.media-amazon.com/images/I/41fDdRtjfx...</td>\n",
       "      <td>https://www.amazon.in/Noir-Aqua-Spanner-Purifi...</td>\n",
       "    </tr>\n",
       "    <tr>\n",
       "      <th>1461</th>\n",
       "      <td>B01M6453MB</td>\n",
       "      <td>Prestige Delight PRWO Electric Rice Cooker (1 ...</td>\n",
       "      <td>Home&amp;Kitchen|Kitchen&amp;HomeAppliances|SmallKitch...</td>\n",
       "      <td>₹2,280</td>\n",
       "      <td>₹3,045</td>\n",
       "      <td>25%</td>\n",
       "      <td>4.1</td>\n",
       "      <td>4,118</td>\n",
       "      <td>230 Volts, 400 watts, 1 Year</td>\n",
       "      <td>AFG5FM3NEMOL6BNFRV2NK5FNJCHQ,AGEINTRN6Z563RMLH...</td>\n",
       "      <td>Manu Bhai,Naveenpittu,Evatira Sangma,JAGANNADH...</td>\n",
       "      <td>R3DDL2UPKQ2CK9,R2SYYU1OATVIU5,R1VM993161IYRW,R...</td>\n",
       "      <td>ok,everything was good couldn't return bcoz I ...</td>\n",
       "      <td>ok,got everything as mentioned but the measuri...</td>\n",
       "      <td>https://m.media-amazon.com/images/I/41gzDxk4+k...</td>\n",
       "      <td>https://www.amazon.in/Prestige-Delight-PRWO-1-...</td>\n",
       "    </tr>\n",
       "    <tr>\n",
       "      <th>1462</th>\n",
       "      <td>B009P2LIL4</td>\n",
       "      <td>Bajaj Majesty RX10 2000 Watts Heat Convector R...</td>\n",
       "      <td>Home&amp;Kitchen|Heating,Cooling&amp;AirQuality|RoomHe...</td>\n",
       "      <td>₹2,219</td>\n",
       "      <td>₹3,080</td>\n",
       "      <td>28%</td>\n",
       "      <td>3.6</td>\n",
       "      <td>468</td>\n",
       "      <td>International design and styling|Two heat sett...</td>\n",
       "      <td>AGVPWCMAHYQWJOQKMUJN4DW3KM5Q,AF4Q3E66MY4SR7YQZ...</td>\n",
       "      <td>Nehal Desai,Danish Parwez,Amazon Customer,Amaz...</td>\n",
       "      <td>R1TLRJVW4STY5I,R2O455KRN493R1,R3Q5MVGBRIAS2G,R...</td>\n",
       "      <td>very good,Work but front melt after 2 month,Go...</td>\n",
       "      <td>plastic but cool body ,u have to find sturdy s...</td>\n",
       "      <td>https://m.media-amazon.com/images/W/WEBP_40237...</td>\n",
       "      <td>https://www.amazon.in/Bajaj-RX-10-2000-Watt-Co...</td>\n",
       "    </tr>\n",
       "    <tr>\n",
       "      <th>1463</th>\n",
       "      <td>B00J5DYCCA</td>\n",
       "      <td>Havells Ventil Air DSP 230mm Exhaust Fan (Pist...</td>\n",
       "      <td>Home&amp;Kitchen|Heating,Cooling&amp;AirQuality|Fans|E...</td>\n",
       "      <td>₹1,399</td>\n",
       "      <td>₹1,890</td>\n",
       "      <td>26%</td>\n",
       "      <td>4</td>\n",
       "      <td>8,031</td>\n",
       "      <td>Fan sweep area: 230 MM ; Noise level: (40 - 45...</td>\n",
       "      <td>AF2JQCLSCY3QJATWUNNHUSVUPNQQ,AFDMLUXC5LS5RXDJS...</td>\n",
       "      <td>Shubham Dubey,E.GURUBARAN,Mayank S.,eusuf khan...</td>\n",
       "      <td>R39Q2Y79MM9SWK,R3079BG1NIH6MB,R29A31ZELTZNJM,R...</td>\n",
       "      <td>Fan Speed is slow,Good quality,Good product,go...</td>\n",
       "      <td>I have installed this in my kitchen working fi...</td>\n",
       "      <td>https://m.media-amazon.com/images/W/WEBP_40237...</td>\n",
       "      <td>https://www.amazon.in/Havells-Ventilair-230mm-...</td>\n",
       "    </tr>\n",
       "    <tr>\n",
       "      <th>1464</th>\n",
       "      <td>B01486F4G6</td>\n",
       "      <td>Borosil Jumbo 1000-Watt Grill Sandwich Maker (...</td>\n",
       "      <td>Home&amp;Kitchen|Kitchen&amp;HomeAppliances|SmallKitch...</td>\n",
       "      <td>₹2,863</td>\n",
       "      <td>₹3,690</td>\n",
       "      <td>22%</td>\n",
       "      <td>4.3</td>\n",
       "      <td>6,987</td>\n",
       "      <td>Brand-Borosil, Specification â€“ 23V ~ 5Hz;1 W...</td>\n",
       "      <td>AFGW5PT3R6ZAVQR4Y5MWVAKBZAYA,AG7QNJ2SCS5VS5VYY...</td>\n",
       "      <td>Rajib,Ajay B,Vikas Kahol,PARDEEP,Anindya Prama...</td>\n",
       "      <td>R20RBRZ0WEUJT9,ROKIFK9R2ISSE,R30EEG2FNJSN5I,R2...</td>\n",
       "      <td>Works perfect,Ok good product,Nice Product. Re...</td>\n",
       "      <td>It does it job perfectly..only issue is temp c...</td>\n",
       "      <td>https://m.media-amazon.com/images/W/WEBP_40237...</td>\n",
       "      <td>https://www.amazon.in/Borosil-Jumbo-1000-Watt-...</td>\n",
       "    </tr>\n",
       "  </tbody>\n",
       "</table>\n",
       "<p>1465 rows × 16 columns</p>\n",
       "</div>"
      ],
      "text/plain": [
       "      product_id                                       product_name  \\\n",
       "0     B07JW9H4J1  Wayona Nylon Braided USB to Lightning Fast Cha...   \n",
       "1     B098NS6PVG  Ambrane Unbreakable 60W / 3A Fast Charging 1.5...   \n",
       "2     B096MSW6CT  Sounce Fast Phone Charging Cable & Data Sync U...   \n",
       "3     B08HDJ86NZ  boAt Deuce USB 300 2 in 1 Type-C & Micro USB S...   \n",
       "4     B08CF3B7N1  Portronics Konnect L 1.2M Fast Charging 3A 8 P...   \n",
       "...          ...                                                ...   \n",
       "1460  B08L7J3T31  Noir Aqua - 5pcs PP Spun Filter + 1 Spanner | ...   \n",
       "1461  B01M6453MB  Prestige Delight PRWO Electric Rice Cooker (1 ...   \n",
       "1462  B009P2LIL4  Bajaj Majesty RX10 2000 Watts Heat Convector R...   \n",
       "1463  B00J5DYCCA  Havells Ventil Air DSP 230mm Exhaust Fan (Pist...   \n",
       "1464  B01486F4G6  Borosil Jumbo 1000-Watt Grill Sandwich Maker (...   \n",
       "\n",
       "                                               category discounted_price  \\\n",
       "0     Computers&Accessories|Accessories&Peripherals|...             ₹399   \n",
       "1     Computers&Accessories|Accessories&Peripherals|...             ₹199   \n",
       "2     Computers&Accessories|Accessories&Peripherals|...             ₹199   \n",
       "3     Computers&Accessories|Accessories&Peripherals|...             ₹329   \n",
       "4     Computers&Accessories|Accessories&Peripherals|...             ₹154   \n",
       "...                                                 ...              ...   \n",
       "1460  Home&Kitchen|Kitchen&HomeAppliances|WaterPurif...             ₹379   \n",
       "1461  Home&Kitchen|Kitchen&HomeAppliances|SmallKitch...           ₹2,280   \n",
       "1462  Home&Kitchen|Heating,Cooling&AirQuality|RoomHe...           ₹2,219   \n",
       "1463  Home&Kitchen|Heating,Cooling&AirQuality|Fans|E...           ₹1,399   \n",
       "1464  Home&Kitchen|Kitchen&HomeAppliances|SmallKitch...           ₹2,863   \n",
       "\n",
       "     actual_price discount_percentage rating rating_count  \\\n",
       "0          ₹1,099                 64%    4.2       24,269   \n",
       "1            ₹349                 43%    4.0       43,994   \n",
       "2          ₹1,899                 90%    3.9        7,928   \n",
       "3            ₹699                 53%    4.2       94,363   \n",
       "4            ₹399                 61%    4.2       16,905   \n",
       "...           ...                 ...    ...          ...   \n",
       "1460         ₹919                 59%      4        1,090   \n",
       "1461       ₹3,045                 25%    4.1        4,118   \n",
       "1462       ₹3,080                 28%    3.6          468   \n",
       "1463       ₹1,890                 26%      4        8,031   \n",
       "1464       ₹3,690                 22%    4.3        6,987   \n",
       "\n",
       "                                          about_product  \\\n",
       "0     High Compatibility : Compatible With iPhone 12...   \n",
       "1     Compatible with all Type C enabled devices, be...   \n",
       "2     【 Fast Charger& Data Sync】-With built-in safet...   \n",
       "3     The boAt Deuce USB 300 2 in 1 cable is compati...   \n",
       "4     [CHARGE & SYNC FUNCTION]- This cable comes wit...   \n",
       "...                                                 ...   \n",
       "1460  SUPREME QUALITY 90 GRAM 3 LAYER THIK PP SPUN F...   \n",
       "1461                       230 Volts, 400 watts, 1 Year   \n",
       "1462  International design and styling|Two heat sett...   \n",
       "1463  Fan sweep area: 230 MM ; Noise level: (40 - 45...   \n",
       "1464  Brand-Borosil, Specification â€“ 23V ~ 5Hz;1 W...   \n",
       "\n",
       "                                                user_id  \\\n",
       "0     AG3D6O4STAQKAY2UVGEUV46KN35Q,AHMY5CWJMMK5BJRBB...   \n",
       "1     AECPFYFQVRUWC3KGNLJIOREFP5LQ,AGYYVPDD7YG7FYNBX...   \n",
       "2     AGU3BBQ2V2DDAMOAKGFAWDDQ6QHA,AESFLDV2PT363T2AQ...   \n",
       "3     AEWAZDZZJLQUYVOVGBEUKSLXHQ5A,AG5HTSFRRE6NL3M5S...   \n",
       "4     AE3Q6KSUK5P75D5HFYHCRAOLODSA,AFUGIFH5ZAFXRDSZH...   \n",
       "...                                                 ...   \n",
       "1460  AHITFY6AHALOFOHOZEOC6XBP4FEA,AFRABBODZJZQB6Z4U...   \n",
       "1461  AFG5FM3NEMOL6BNFRV2NK5FNJCHQ,AGEINTRN6Z563RMLH...   \n",
       "1462  AGVPWCMAHYQWJOQKMUJN4DW3KM5Q,AF4Q3E66MY4SR7YQZ...   \n",
       "1463  AF2JQCLSCY3QJATWUNNHUSVUPNQQ,AFDMLUXC5LS5RXDJS...   \n",
       "1464  AFGW5PT3R6ZAVQR4Y5MWVAKBZAYA,AG7QNJ2SCS5VS5VYY...   \n",
       "\n",
       "                                              user_name  \\\n",
       "0     Manav,Adarsh gupta,Sundeep,S.Sayeed Ahmed,jasp...   \n",
       "1     ArdKn,Nirbhay kumar,Sagar Viswanathan,Asp,Plac...   \n",
       "2     Kunal,Himanshu,viswanath,sai niharka,saqib mal...   \n",
       "3     Omkar dhale,JD,HEMALATHA,Ajwadh a.,amar singh ...   \n",
       "4     rahuls6099,Swasat Borah,Ajay Wadke,Pranali,RVK...   \n",
       "...                                                 ...   \n",
       "1460  Prabha ds,Raghuram bk,Real Deal,Amazon Custome...   \n",
       "1461  Manu Bhai,Naveenpittu,Evatira Sangma,JAGANNADH...   \n",
       "1462  Nehal Desai,Danish Parwez,Amazon Customer,Amaz...   \n",
       "1463  Shubham Dubey,E.GURUBARAN,Mayank S.,eusuf khan...   \n",
       "1464  Rajib,Ajay B,Vikas Kahol,PARDEEP,Anindya Prama...   \n",
       "\n",
       "                                              review_id  \\\n",
       "0     R3HXWT0LRP0NMF,R2AJM3LFTLZHFO,R6AQJGUP6P86,R1K...   \n",
       "1     RGIQEG07R9HS2,R1SMWZQ86XIN8U,R2J3Y1WL29GWDE,RY...   \n",
       "2     R3J3EQQ9TZI5ZJ,R3E7WBGK7ID0KV,RWU79XKQ6I1QF,R2...   \n",
       "3     R3EEUZKKK9J36I,R3HJVYCLYOY554,REDECAZ7AMPQC,R1...   \n",
       "4     R1BP4L2HH9TFUP,R16PVJEXKV6QZS,R2UPDB81N66T4P,R...   \n",
       "...                                                 ...   \n",
       "1460  R3G3XFHPBFF0E8,R3C0BZCD32EIGW,R2EBVBCN9QPD9R,R...   \n",
       "1461  R3DDL2UPKQ2CK9,R2SYYU1OATVIU5,R1VM993161IYRW,R...   \n",
       "1462  R1TLRJVW4STY5I,R2O455KRN493R1,R3Q5MVGBRIAS2G,R...   \n",
       "1463  R39Q2Y79MM9SWK,R3079BG1NIH6MB,R29A31ZELTZNJM,R...   \n",
       "1464  R20RBRZ0WEUJT9,ROKIFK9R2ISSE,R30EEG2FNJSN5I,R2...   \n",
       "\n",
       "                                           review_title  \\\n",
       "0     Satisfied,Charging is really fast,Value for mo...   \n",
       "1     A Good Braided Cable for Your Type C Device,Go...   \n",
       "2     Good speed for earlier versions,Good Product,W...   \n",
       "3     Good product,Good one,Nice,Really nice product...   \n",
       "4     As good as original,Decent,Good one for second...   \n",
       "...                                                 ...   \n",
       "1460  Received the product without spanner,Excellent...   \n",
       "1461  ok,everything was good couldn't return bcoz I ...   \n",
       "1462  very good,Work but front melt after 2 month,Go...   \n",
       "1463  Fan Speed is slow,Good quality,Good product,go...   \n",
       "1464  Works perfect,Ok good product,Nice Product. Re...   \n",
       "\n",
       "                                         review_content  \\\n",
       "0     Looks durable Charging is fine tooNo complains...   \n",
       "1     I ordered this cable to connect my phone to An...   \n",
       "2     Not quite durable and sturdy,https://m.media-a...   \n",
       "3     Good product,long wire,Charges good,Nice,I bou...   \n",
       "4     Bought this instead of original apple, does th...   \n",
       "...                                                 ...   \n",
       "1460  I received product without spanner,Excellent p...   \n",
       "1461  ok,got everything as mentioned but the measuri...   \n",
       "1462  plastic but cool body ,u have to find sturdy s...   \n",
       "1463  I have installed this in my kitchen working fi...   \n",
       "1464  It does it job perfectly..only issue is temp c...   \n",
       "\n",
       "                                               img_link  \\\n",
       "0     https://m.media-amazon.com/images/W/WEBP_40237...   \n",
       "1     https://m.media-amazon.com/images/W/WEBP_40237...   \n",
       "2     https://m.media-amazon.com/images/W/WEBP_40237...   \n",
       "3     https://m.media-amazon.com/images/I/41V5FtEWPk...   \n",
       "4     https://m.media-amazon.com/images/W/WEBP_40237...   \n",
       "...                                                 ...   \n",
       "1460  https://m.media-amazon.com/images/I/41fDdRtjfx...   \n",
       "1461  https://m.media-amazon.com/images/I/41gzDxk4+k...   \n",
       "1462  https://m.media-amazon.com/images/W/WEBP_40237...   \n",
       "1463  https://m.media-amazon.com/images/W/WEBP_40237...   \n",
       "1464  https://m.media-amazon.com/images/W/WEBP_40237...   \n",
       "\n",
       "                                           product_link  \n",
       "0     https://www.amazon.in/Wayona-Braided-WN3LG1-Sy...  \n",
       "1     https://www.amazon.in/Ambrane-Unbreakable-Char...  \n",
       "2     https://www.amazon.in/Sounce-iPhone-Charging-C...  \n",
       "3     https://www.amazon.in/Deuce-300-Resistant-Tang...  \n",
       "4     https://www.amazon.in/Portronics-Konnect-POR-1...  \n",
       "...                                                 ...  \n",
       "1460  https://www.amazon.in/Noir-Aqua-Spanner-Purifi...  \n",
       "1461  https://www.amazon.in/Prestige-Delight-PRWO-1-...  \n",
       "1462  https://www.amazon.in/Bajaj-RX-10-2000-Watt-Co...  \n",
       "1463  https://www.amazon.in/Havells-Ventilair-230mm-...  \n",
       "1464  https://www.amazon.in/Borosil-Jumbo-1000-Watt-...  \n",
       "\n",
       "[1465 rows x 16 columns]"
      ]
     },
     "execution_count": 2,
     "metadata": {},
     "output_type": "execute_result"
    }
   ],
   "source": [
    "df = pd.read_csv('amazon.csv')\n",
    "df"
   ]
  },
  {
   "cell_type": "code",
   "execution_count": 3,
   "id": "de7de649-57f3-4162-a189-c57bcd4a0390",
   "metadata": {},
   "outputs": [
    {
     "data": {
      "text/plain": [
       "(1465, 16)"
      ]
     },
     "execution_count": 3,
     "metadata": {},
     "output_type": "execute_result"
    }
   ],
   "source": [
    "df.shape"
   ]
  },
  {
   "cell_type": "code",
   "execution_count": 4,
   "id": "dc7ce9ab-d575-4a53-b76f-4d54d8b84d10",
   "metadata": {},
   "outputs": [
    {
     "data": {
      "text/plain": [
       "Index(['product_id', 'product_name', 'category', 'discounted_price',\n",
       "       'actual_price', 'discount_percentage', 'rating', 'rating_count',\n",
       "       'about_product', 'user_id', 'user_name', 'review_id', 'review_title',\n",
       "       'review_content', 'img_link', 'product_link'],\n",
       "      dtype='object')"
      ]
     },
     "execution_count": 4,
     "metadata": {},
     "output_type": "execute_result"
    }
   ],
   "source": [
    "df.columns"
   ]
  },
  {
   "cell_type": "code",
   "execution_count": 5,
   "id": "28100ed8-0ca2-4c7f-9268-40a5184fb21c",
   "metadata": {},
   "outputs": [
    {
     "name": "stdout",
     "output_type": "stream",
     "text": [
      "<class 'pandas.core.frame.DataFrame'>\n",
      "RangeIndex: 1465 entries, 0 to 1464\n",
      "Data columns (total 16 columns):\n",
      " #   Column               Non-Null Count  Dtype \n",
      "---  ------               --------------  ----- \n",
      " 0   product_id           1465 non-null   object\n",
      " 1   product_name         1465 non-null   object\n",
      " 2   category             1465 non-null   object\n",
      " 3   discounted_price     1465 non-null   object\n",
      " 4   actual_price         1465 non-null   object\n",
      " 5   discount_percentage  1465 non-null   object\n",
      " 6   rating               1465 non-null   object\n",
      " 7   rating_count         1463 non-null   object\n",
      " 8   about_product        1465 non-null   object\n",
      " 9   user_id              1465 non-null   object\n",
      " 10  user_name            1465 non-null   object\n",
      " 11  review_id            1465 non-null   object\n",
      " 12  review_title         1465 non-null   object\n",
      " 13  review_content       1465 non-null   object\n",
      " 14  img_link             1465 non-null   object\n",
      " 15  product_link         1465 non-null   object\n",
      "dtypes: object(16)\n",
      "memory usage: 183.3+ KB\n"
     ]
    }
   ],
   "source": [
    "df.info()"
   ]
  },
  {
   "cell_type": "code",
   "execution_count": 6,
   "id": "cc47ffe4-7922-411c-853e-fc10dd0024fb",
   "metadata": {},
   "outputs": [
    {
     "data": {
      "text/plain": [
       "array(['B07JW9H4J1', 'B098NS6PVG', 'B096MSW6CT', ..., 'B009P2LIL4',\n",
       "       'B00J5DYCCA', 'B01486F4G6'], dtype=object)"
      ]
     },
     "execution_count": 6,
     "metadata": {},
     "output_type": "execute_result"
    }
   ],
   "source": [
    "df['product_id'].unique()"
   ]
  },
  {
   "cell_type": "code",
   "execution_count": 7,
   "id": "7022b011-16ec-4e42-aafa-608fd4430a6a",
   "metadata": {},
   "outputs": [
    {
     "data": {
      "text/plain": [
       "product_id\n",
       "B07JW9H4J1    3\n",
       "B085DTN6R2    3\n",
       "B07XLCFSSN    3\n",
       "B077Z65HSD    3\n",
       "B09W5XR9RT    3\n",
       "             ..\n",
       "B0BNVBJW2S    1\n",
       "B09VZBGL1N    1\n",
       "B01F262EUU    1\n",
       "B0BBFJLP21    1\n",
       "B01486F4G6    1\n",
       "Name: count, Length: 1351, dtype: int64"
      ]
     },
     "execution_count": 7,
     "metadata": {},
     "output_type": "execute_result"
    }
   ],
   "source": [
    "df['product_id'].value_counts()"
   ]
  },
  {
   "cell_type": "code",
   "execution_count": 8,
   "id": "5b3b8375-e48c-43cc-9cbb-0d9e95ffa782",
   "metadata": {},
   "outputs": [
    {
     "data": {
      "text/plain": [
       "array(['Wayona Nylon Braided USB to Lightning Fast Charging and Data Sync Cable Compatible for iPhone 13, 12,11, X, 8, 7, 6, 5, iPad Air, Pro, Mini (3 FT Pack of 1, Grey)',\n",
       "       'Ambrane Unbreakable 60W / 3A Fast Charging 1.5m Braided Type C Cable for Smartphones, Tablets, Laptops & other Type C devices, PD Technology, 480Mbps Data Sync, Quick Charge 3.0 (RCT15A, Black)',\n",
       "       'Sounce Fast Phone Charging Cable & Data Sync USB Cable Compatible for iPhone 13, 12,11, X, 8, 7, 6, 5, iPad Air, Pro, Mini & iOS Devices',\n",
       "       ...,\n",
       "       'Bajaj Majesty RX10 2000 Watts Heat Convector Room Heater (White, ISI Approved)',\n",
       "       'Havells Ventil Air DSP 230mm Exhaust Fan (Pista Green)',\n",
       "       'Borosil Jumbo 1000-Watt Grill Sandwich Maker (Black)'],\n",
       "      dtype=object)"
      ]
     },
     "execution_count": 8,
     "metadata": {},
     "output_type": "execute_result"
    }
   ],
   "source": [
    "df['product_name'].unique()"
   ]
  },
  {
   "cell_type": "code",
   "execution_count": 9,
   "id": "7b684bf0-d4a2-49b2-8d0f-5377b888af23",
   "metadata": {},
   "outputs": [
    {
     "data": {
      "text/plain": [
       "product_name\n",
       "Fire-Boltt Ninja Call Pro Plus 1.83\" Smart Watch with Bluetooth Calling, AI Voice Assistance, 100 Sports Modes IP67 Rating, 240*280 Pixel High Resolution                           5\n",
       "Fire-Boltt Phoenix Smart Watch with Bluetooth Calling 1.3\",120+ Sports Modes, 240*240 PX High Res with SpO2, Heart Rate Monitoring & IP67 Rating                                    4\n",
       "Wayona Nylon Braided USB to Lightning Fast Charging and Data Sync Cable Compatible for iPhone 13, 12,11, X, 8, 7, 6, 5, iPad Air, Pro, Mini (3 FT Pack of 1, Grey)                  3\n",
       "MI Braided USB Type-C Cable for Charging Adapter (Red)                                                                                                                              3\n",
       "Amazonbasics Nylon Braided Usb-C To Lightning Cable, Fast Charging Mfi Certified Smartphone, Iphone Charger (6-Foot, Dark Grey)                                                     3\n",
       "                                                                                                                                                                                   ..\n",
       "SanDisk Ultra microSD UHS-I Card 64GB, 120MB/s R                                                                                                                                    1\n",
       "Noise ColorFit Ultra SE Smart Watch with 1.75\"(4.3cm) HD Display, Aluminium Alloy Body, 60 Sports Modes, Spo2, Lightweight, Stock Market Info, Calls & SMS Reply (Vintage Brown)    1\n",
       "Nokia 150 (2020) (Cyan)                                                                                                                                                             1\n",
       "OnePlus 10T 5G (Moonstone Black, 8GB RAM, 128GB Storage)                                                                                                                            1\n",
       "Borosil Jumbo 1000-Watt Grill Sandwich Maker (Black)                                                                                                                                1\n",
       "Name: count, Length: 1337, dtype: int64"
      ]
     },
     "execution_count": 9,
     "metadata": {},
     "output_type": "execute_result"
    }
   ],
   "source": [
    "df['product_name'].value_counts()"
   ]
  },
  {
   "cell_type": "code",
   "execution_count": 10,
   "id": "a60458e6-1aa0-466a-873a-2847ec6b0574",
   "metadata": {},
   "outputs": [
    {
     "data": {
      "text/plain": [
       "array(['Computers&Accessories|Accessories&Peripherals|Cables&Accessories|Cables|USBCables',\n",
       "       'Computers&Accessories|NetworkingDevices|NetworkAdapters|WirelessUSBAdapters',\n",
       "       'Electronics|HomeTheater,TV&Video|Accessories|Cables|HDMICables',\n",
       "       'Electronics|HomeTheater,TV&Video|Televisions|SmartTelevisions',\n",
       "       'Electronics|HomeTheater,TV&Video|Accessories|RemoteControls',\n",
       "       'Electronics|HomeTheater,TV&Video|Televisions|StandardTelevisions',\n",
       "       'Electronics|HomeTheater,TV&Video|Accessories|TVMounts,Stands&Turntables|TVWall&CeilingMounts',\n",
       "       'Electronics|HomeTheater,TV&Video|Accessories|Cables|RCACables',\n",
       "       'Electronics|HomeAudio|Accessories|SpeakerAccessories|Mounts',\n",
       "       'Electronics|HomeTheater,TV&Video|Accessories|Cables|OpticalCables',\n",
       "       'Electronics|HomeTheater,TV&Video|Projectors',\n",
       "       'Electronics|HomeAudio|Accessories|Adapters',\n",
       "       'Electronics|HomeTheater,TV&Video|SatelliteEquipment|SatelliteReceivers',\n",
       "       'Computers&Accessories|Accessories&Peripherals|Cables&Accessories|Cables|DVICables',\n",
       "       'Electronics|HomeTheater,TV&Video|Accessories|Cables|SpeakerCables',\n",
       "       'Electronics|HomeAudio|MediaStreamingDevices|StreamingClients',\n",
       "       'Electronics|HomeTheater,TV&Video|AVReceivers&Amplifiers',\n",
       "       'Electronics|HomeAudio|Speakers|TowerSpeakers',\n",
       "       'Electronics|HomeTheater,TV&Video|Accessories|3DGlasses',\n",
       "       'Electronics|WearableTechnology|SmartWatches',\n",
       "       'Electronics|Mobiles&Accessories|MobileAccessories|Chargers|PowerBanks',\n",
       "       'Electronics|Mobiles&Accessories|Smartphones&BasicMobiles|Smartphones',\n",
       "       'Electronics|Accessories|MemoryCards|MicroSD',\n",
       "       'Electronics|Mobiles&Accessories|Smartphones&BasicMobiles|BasicMobiles',\n",
       "       'Electronics|Headphones,Earbuds&Accessories|Headphones|In-Ear',\n",
       "       'Electronics|Mobiles&Accessories|MobileAccessories|Chargers|AutomobileChargers',\n",
       "       'Electronics|Mobiles&Accessories|MobileAccessories|AutomobileAccessories|Cradles',\n",
       "       'Electronics|Mobiles&Accessories|MobileAccessories|Chargers|WallChargers',\n",
       "       'Electronics|Mobiles&Accessories|MobileAccessories|Cables&Adapters|OTGAdapters',\n",
       "       'Electronics|Mobiles&Accessories|MobileAccessories|Photo&VideoAccessories|Tripods',\n",
       "       'Electronics|Mobiles&Accessories|MobileAccessories|Photo&VideoAccessories|SelfieSticks',\n",
       "       'Electronics|Mobiles&Accessories|MobileAccessories|Stands',\n",
       "       'Computers&Accessories|Accessories&Peripherals|Cables&Accessories|CableConnectionProtectors',\n",
       "       'Electronics|Mobiles&Accessories|MobileAccessories|Décor',\n",
       "       'Electronics|Mobiles&Accessories|MobileAccessories|Maintenance,Upkeep&Repairs|ScreenProtectors',\n",
       "       'Electronics|Mobiles&Accessories|MobileAccessories|StylusPens',\n",
       "       'Electronics|Mobiles&Accessories|MobileAccessories|Mounts|Bedstand&DeskMounts',\n",
       "       'Electronics|Mobiles&Accessories|MobileAccessories|Cases&Covers|BasicCases',\n",
       "       'Electronics|Mobiles&Accessories|MobileAccessories|Mounts|HandlebarMounts',\n",
       "       'Electronics|Headphones,Earbuds&Accessories|Headphones|On-Ear',\n",
       "       'Computers&Accessories|Accessories&Peripherals|LaptopAccessories|CameraPrivacyCovers',\n",
       "       'Electronics|Headphones,Earbuds&Accessories|Adapters',\n",
       "       'Electronics|Mobiles&Accessories|MobileAccessories|Décor|PhoneCharms',\n",
       "       'Electronics|Mobiles&Accessories|MobileAccessories|Mounts|Shower&WallMounts',\n",
       "       'Computers&Accessories|ExternalDevices&DataStorage|PenDrives',\n",
       "       'Computers&Accessories|Accessories&Peripherals|Keyboards,Mice&InputDevices|Mice',\n",
       "       'Computers&Accessories|Accessories&Peripherals|Keyboards,Mice&InputDevices|GraphicTablets',\n",
       "       'Computers&Accessories|Accessories&Peripherals|LaptopAccessories|Lapdesks',\n",
       "       'Computers&Accessories|Accessories&Peripherals|LaptopAccessories|NotebookComputerStands',\n",
       "       'Computers&Accessories|Accessories&Peripherals|Keyboards,Mice&InputDevices|Keyboards',\n",
       "       'MusicalInstruments|Microphones|Condenser',\n",
       "       'Electronics|GeneralPurposeBatteries&BatteryChargers|DisposableBatteries',\n",
       "       'OfficeProducts|OfficePaperProducts|Paper|Stationery|Pens,Pencils&WritingSupplies|Pens&Refills|GelInkRollerballPens',\n",
       "       'Home&Kitchen|CraftMaterials|Scrapbooking|Tape',\n",
       "       'Computers&Accessories|Accessories&Peripherals|Keyboards,Mice&InputDevices|Keyboard&MouseSets',\n",
       "       'Computers&Accessories|ExternalDevices&DataStorage|ExternalHardDisks',\n",
       "       'Electronics|Cameras&Photography|VideoCameras',\n",
       "       'Electronics|Cameras&Photography|Accessories|Tripods&Monopods|Tabletop&TravelTripods',\n",
       "       'OfficeProducts|OfficeElectronics|Calculators|Scientific',\n",
       "       'Computers&Accessories|NetworkingDevices|Repeaters&Extenders',\n",
       "       'Electronics|Cameras&Photography|Accessories|Tripods&Monopods|TripodLegs',\n",
       "       'Computers&Accessories|Printers,Inks&Accessories|Inks,Toners&Cartridges|InkjetInkCartridges',\n",
       "       'Computers&Accessories|Accessories&Peripherals|Keyboards,Mice&InputDevices|Keyboard&MiceAccessories|DustCovers',\n",
       "       'Computers&Accessories|Accessories&Peripherals|PCGamingPeripherals|GamingMice',\n",
       "       'Home&Kitchen|CraftMaterials|PaintingMaterials|Paints',\n",
       "       'Computers&Accessories|Accessories&Peripherals|Keyboards,Mice&InputDevices|Keyboard&MiceAccessories|MousePads',\n",
       "       'Computers&Accessories|Accessories&Peripherals|HardDiskBags',\n",
       "       'Electronics|Cameras&Photography|Flashes|Macro&RinglightFlashes',\n",
       "       'Computers&Accessories|NetworkingDevices',\n",
       "       'Computers&Accessories|NetworkingDevices|Routers',\n",
       "       'Electronics|Headphones,Earbuds&Accessories|Headphones|Over-Ear',\n",
       "       'Electronics|HomeAudio|Speakers|BluetoothSpeakers',\n",
       "       'Electronics|GeneralPurposeBatteries&BatteryChargers',\n",
       "       'OfficeProducts|OfficePaperProducts|Paper|Stationery|Notebooks,WritingPads&Diaries|WireboundNotebooks',\n",
       "       'Electronics|GeneralPurposeBatteries&BatteryChargers|RechargeableBatteries',\n",
       "       'Computers&Accessories|NetworkingDevices|NetworkAdapters|BluetoothAdapters',\n",
       "       'Computers&Accessories|Accessories&Peripherals|Adapters|USBtoUSBAdapters',\n",
       "       'Electronics|Cameras&Photography|Accessories|Tripods&Monopods|CompleteTripodUnits',\n",
       "       'OfficeProducts|OfficePaperProducts|Paper|Stationery|Notebooks,WritingPads&Diaries|Notepads&MemoBooks',\n",
       "       'Electronics|Cameras&Photography|Accessories|Film',\n",
       "       'Computers&Accessories|Monitors',\n",
       "       'Computers&Accessories|Accessories&Peripherals|USBGadgets|Lamps',\n",
       "       'Electronics|Cameras&Photography|Accessories|Cleaners|CleaningKits',\n",
       "       'Electronics|Cameras&Photography|SecurityCameras|DomeCameras',\n",
       "       'Computers&Accessories|Accessories&Peripherals|TabletAccessories|ScreenProtectors',\n",
       "       'Computers&Accessories|Accessories&Peripherals|PCGamingPeripherals|Gamepads',\n",
       "       'OfficeProducts|OfficeElectronics|Calculators|Basic',\n",
       "       'Computers&Accessories|Accessories&Peripherals|USBHubs',\n",
       "       'Computers&Accessories|Accessories&Peripherals|Audio&VideoAccessories|PCMicrophones',\n",
       "       'Electronics|HomeAudio|Speakers|OutdoorSpeakers',\n",
       "       'Computers&Accessories|Accessories&Peripherals|LaptopAccessories|Bags&Sleeves|LaptopSleeves&Slipcases',\n",
       "       'Computers&Accessories|ExternalDevices&DataStorage|ExternalMemoryCardReaders',\n",
       "       'OfficeProducts|OfficePaperProducts|Paper|Stationery|Pens,Pencils&WritingSupplies|Pens&Refills|BottledInk',\n",
       "       'OfficeProducts|OfficePaperProducts|Paper|Stationery|Notebooks,WritingPads&Diaries|CompositionNotebooks',\n",
       "       'OfficeProducts|OfficePaperProducts|Paper|Stationery|Pens,Pencils&WritingSupplies|Pens&Refills|RetractableBallpointPens',\n",
       "       'Computers&Accessories|Accessories&Peripherals|Cables&Accessories|Cables|EthernetCables',\n",
       "       'Computers&Accessories|Components|Memory',\n",
       "       'Computers&Accessories|Accessories&Peripherals|UninterruptedPowerSupplies',\n",
       "       'Electronics|Headphones,Earbuds&Accessories|Cases',\n",
       "       'Electronics|Accessories|MemoryCards|SecureDigitalCards',\n",
       "       'Electronics|Mobiles&Accessories|MobileAccessories|Photo&VideoAccessories|Flashes&SelfieLights|SelfieLights',\n",
       "       'Computers&Accessories|Accessories&Peripherals|Audio&VideoAccessories|Webcams&VoIPEquipment|Webcams',\n",
       "       'Computers&Accessories|Accessories&Peripherals|LaptopAccessories|CoolingPads',\n",
       "       'Computers&Accessories|Accessories&Peripherals|LaptopAccessories',\n",
       "       'Computers&Accessories|Accessories&Peripherals|TabletAccessories|Stands',\n",
       "       'HomeImprovement|Electrical|Adapters&Multi-Outlets',\n",
       "       'OfficeProducts|OfficePaperProducts|Paper|Copy&PrintingPaper|ColouredPaper',\n",
       "       'Computers&Accessories|Components|InternalSolidStateDrives',\n",
       "       'Electronics|HomeAudio|Speakers|MultimediaSpeakerSystems',\n",
       "       'Computers&Accessories|NetworkingDevices|DataCards&Dongles',\n",
       "       'Computers&Accessories|Accessories&Peripherals|LaptopAccessories|LaptopChargers&PowerSupplies',\n",
       "       'Computers&Accessories|Accessories&Peripherals|Audio&VideoAccessories|PCSpeakers',\n",
       "       'Electronics|Cameras&Photography|Accessories|Batteries&Chargers|BatteryChargers',\n",
       "       'Computers&Accessories|Accessories&Peripherals|TabletAccessories|Bags,Cases&Sleeves|Cases',\n",
       "       'OfficeProducts|OfficePaperProducts|Paper|Stationery|Pens,Pencils&WritingSupplies|Pens&Refills|StickBallpointPens',\n",
       "       'Home&Kitchen|CraftMaterials|DrawingMaterials|DrawingMedia|Pencils|WoodenPencils',\n",
       "       'Computers&Accessories|Components|InternalHardDrives',\n",
       "       'Computers&Accessories|Printers,Inks&Accessories|Printers',\n",
       "       'Home&Kitchen|CraftMaterials|DrawingMaterials|DrawingMedia|Pens',\n",
       "       'Computers&Accessories|Accessories&Peripherals|Cables&Accessories|Cables|SATACables',\n",
       "       'Computers&Accessories|Accessories&Peripherals|Audio&VideoAccessories|PCHeadsets',\n",
       "       'Computers&Accessories|Accessories&Peripherals|PCGamingPeripherals|GamingKeyboards',\n",
       "       'Electronics|HomeAudio|Speakers|SoundbarSpeakers',\n",
       "       'Electronics|Headphones,Earbuds&Accessories|Earpads',\n",
       "       'Computers&Accessories|Printers,Inks&Accessories|Printers|InkjetPrinters',\n",
       "       'Toys&Games|Arts&Crafts|Drawing&PaintingSupplies|ColouringPens&Markers',\n",
       "       'Computers&Accessories|Accessories&Peripherals|PCGamingPeripherals|Headsets',\n",
       "       'Computers&Accessories|ExternalDevices&DataStorage|ExternalSolidStateDrives',\n",
       "       'Computers&Accessories|NetworkingDevices|NetworkAdapters|PowerLANAdapters',\n",
       "       'Computers&Accessories|Printers,Inks&Accessories|Inks,Toners&Cartridges|InkjetInkRefills&Kits',\n",
       "       'OfficeProducts|OfficePaperProducts|Paper|Stationery|Notebooks,WritingPads&Diaries',\n",
       "       'Electronics|Cameras&Photography|Accessories|PhotoStudio&Lighting|PhotoBackgroundAccessories|BackgroundSupports',\n",
       "       'OfficeProducts|OfficeElectronics|Calculators|Financial&Business',\n",
       "       'Electronics|PowerAccessories|SurgeProtectors',\n",
       "       'Computers&Accessories|Tablets',\n",
       "       'HomeImprovement|Electrical|CordManagement',\n",
       "       'Home&Kitchen|CraftMaterials|PaintingMaterials',\n",
       "       'Computers&Accessories|Printers,Inks&Accessories|Inks,Toners&Cartridges|TonerCartridges',\n",
       "       'OfficeProducts|OfficePaperProducts|Paper|Stationery|Pens,Pencils&WritingSupplies|Pens&Refills|LiquidInkRollerballPens',\n",
       "       'OfficeProducts|OfficePaperProducts|Paper|Stationery|Pens,Pencils&WritingSupplies|Pens&Refills|FountainPens',\n",
       "       'Computers&Accessories|Accessories&Peripherals|HardDriveAccessories|Caddies',\n",
       "       'Computers&Accessories|Laptops|TraditionalLaptops',\n",
       "       'Home&Kitchen|Kitchen&HomeAppliances|SmallKitchenAppliances|Kettles&HotWaterDispensers|ElectricKettles',\n",
       "       'Home&Kitchen|Heating,Cooling&AirQuality|RoomHeaters|ElectricHeaters',\n",
       "       'Home&Kitchen|Heating,Cooling&AirQuality|RoomHeaters|FanHeaters',\n",
       "       'Home&Kitchen|Kitchen&HomeAppliances|Vacuum,Cleaning&Ironing|Irons,Steamers&Accessories|LintShavers',\n",
       "       'Home&Kitchen|Kitchen&HomeAppliances|SmallKitchenAppliances|DigitalKitchenScales',\n",
       "       'Home&Kitchen|Kitchen&Dining|KitchenTools|ManualChoppers&Chippers|Choppers',\n",
       "       'Home&Kitchen|Kitchen&HomeAppliances|SmallKitchenAppliances|InductionCooktop',\n",
       "       'Home&Kitchen|Kitchen&HomeAppliances|SmallKitchenAppliances|HandBlenders',\n",
       "       'Home&Kitchen|Kitchen&HomeAppliances|Vacuum,Cleaning&Ironing|Irons,Steamers&Accessories|Irons|DryIrons',\n",
       "       'Home&Kitchen|Kitchen&HomeAppliances|SmallKitchenAppliances|MixerGrinders',\n",
       "       'Home&Kitchen|Heating,Cooling&AirQuality|WaterHeaters&Geysers|InstantWaterHeaters',\n",
       "       'Home&Kitchen|Heating,Cooling&AirQuality|RoomHeaters',\n",
       "       'Home&Kitchen|Kitchen&HomeAppliances|SmallKitchenAppliances|Kettles&HotWaterDispensers|Kettle&ToasterSets',\n",
       "       'Home&Kitchen|Heating,Cooling&AirQuality|WaterHeaters&Geysers|StorageWaterHeaters',\n",
       "       'Home&Kitchen|Heating,Cooling&AirQuality|WaterHeaters&Geysers|ImmersionRods',\n",
       "       'Home&Kitchen|Kitchen&HomeAppliances|SmallKitchenAppliances|DeepFatFryers|AirFryers',\n",
       "       'Home&Kitchen|HomeStorage&Organization|LaundryOrganization|LaundryBaskets',\n",
       "       'Home&Kitchen|Kitchen&HomeAppliances|Vacuum,Cleaning&Ironing|Irons,Steamers&Accessories|Irons|SteamIrons',\n",
       "       'Home&Kitchen|Kitchen&HomeAppliances|SmallKitchenAppliances|JuicerMixerGrinders',\n",
       "       'Home&Kitchen|Kitchen&HomeAppliances|Vacuum,Cleaning&Ironing|Vacuums&FloorCare|Vacuums|HandheldVacuums',\n",
       "       'Home&Kitchen|Kitchen&HomeAppliances|SmallKitchenAppliances|EggBoilers',\n",
       "       'Home&Kitchen|Kitchen&HomeAppliances|SmallKitchenAppliances|SandwichMakers',\n",
       "       'Home&Kitchen|Kitchen&HomeAppliances|SmallKitchenAppliances|MiniFoodProcessors&Choppers',\n",
       "       'Home&Kitchen|Kitchen&HomeAppliances|SmallKitchenAppliances|DigitalKitchenScales|DigitalScales',\n",
       "       'Home&Kitchen|Kitchen&HomeAppliances|SmallKitchenAppliances|VacuumSealers',\n",
       "       'Home&Kitchen|Heating,Cooling&AirQuality|Fans|CeilingFans',\n",
       "       'Home&Kitchen|Kitchen&HomeAppliances|Vacuum,Cleaning&Ironing|Vacuums&FloorCare|Vacuums|CanisterVacuums',\n",
       "       'Home&Kitchen|Kitchen&HomeAppliances|Vacuum,Cleaning&Ironing|PressureWashers,Steam&WindowCleaners',\n",
       "       'Home&Kitchen|Heating,Cooling&AirQuality|RoomHeaters|HalogenHeaters',\n",
       "       'Home&Kitchen|Kitchen&HomeAppliances|SmallKitchenAppliances|Pop-upToasters',\n",
       "       'Home&Kitchen|Heating,Cooling&AirQuality|RoomHeaters|HeatConvectors',\n",
       "       'Home&Kitchen|Kitchen&HomeAppliances|Coffee,Tea&Espresso|CoffeeGrinders|ElectricGrinders',\n",
       "       'Home&Kitchen|Heating,Cooling&AirQuality|Fans|ExhaustFans',\n",
       "       'Home&Kitchen|Kitchen&HomeAppliances|Coffee,Tea&Espresso|DripCoffeeMachines',\n",
       "       'Home&Kitchen|Kitchen&HomeAppliances|WaterPurifiers&Accessories|WaterPurifierAccessories',\n",
       "       'Home&Kitchen|Kitchen&HomeAppliances|WaterPurifiers&Accessories|WaterCartridges',\n",
       "       'Home&Kitchen|Kitchen&HomeAppliances|SmallKitchenAppliances|Rice&PastaCookers',\n",
       "       'Car&Motorbike|CarAccessories|InteriorAccessories|AirPurifiers&Ionizers',\n",
       "       'Home&Kitchen|Kitchen&HomeAppliances|Vacuum,Cleaning&Ironing|Vacuums&FloorCare|Vacuums|Wet-DryVacuums',\n",
       "       'Home&Kitchen|Heating,Cooling&AirQuality|AirPurifiers|HEPAAirPurifiers',\n",
       "       'Home&Kitchen|Kitchen&HomeAppliances|WaterPurifiers&Accessories|WaterFilters&Purifiers',\n",
       "       'Home&Kitchen|HomeStorage&Organization|LaundryOrganization|LaundryBags',\n",
       "       'Home&Kitchen|Kitchen&HomeAppliances|SewingMachines&Accessories|Sewing&EmbroideryMachines',\n",
       "       'Home&Kitchen|HomeStorage&Organization|LaundryOrganization|IroningAccessories|SprayBottles',\n",
       "       'Home&Kitchen|Kitchen&HomeAppliances|SmallKitchenAppliances|HandMixers',\n",
       "       'Home&Kitchen|Kitchen&HomeAppliances|SmallKitchenAppliances|Mills&Grinders|WetGrinders',\n",
       "       'Home&Kitchen|Kitchen&HomeAppliances|SmallKitchenAppliances|OvenToasterGrills',\n",
       "       'Home&Kitchen|Kitchen&HomeAppliances|SmallKitchenAppliances|Juicers',\n",
       "       'Home&Kitchen|Kitchen&HomeAppliances|SmallKitchenAppliances',\n",
       "       'Health&PersonalCare|HomeMedicalSupplies&Equipment|HealthMonitors|WeighingScales|DigitalBathroomScales',\n",
       "       'Home&Kitchen|Kitchen&HomeAppliances|Coffee,Tea&Espresso|EspressoMachines',\n",
       "       'Home&Kitchen|Heating,Cooling&AirQuality|Fans|TableFans',\n",
       "       'Home&Kitchen|Kitchen&HomeAppliances|Coffee,Tea&Espresso|MilkFrothers',\n",
       "       'Home&Kitchen|Heating,Cooling&AirQuality|Humidifiers',\n",
       "       'Home&Kitchen|Kitchen&HomeAppliances|SmallKitchenAppliances|SmallApplianceParts&Accessories|StandMixerAccessories',\n",
       "       'Home&Kitchen|Kitchen&HomeAppliances|Vacuum,Cleaning&Ironing|Vacuums&FloorCare|Vacuums|RoboticVacuums',\n",
       "       'Home&Kitchen|Kitchen&HomeAppliances|SmallKitchenAppliances|YogurtMakers',\n",
       "       'Home&Kitchen|Kitchen&HomeAppliances|SmallKitchenAppliances|Juicers|ColdPressJuicers',\n",
       "       'Home&Kitchen|Heating,Cooling&AirQuality|AirConditioners|Split-SystemAirConditioners',\n",
       "       'Home&Kitchen|Kitchen&HomeAppliances|SmallKitchenAppliances|SmallApplianceParts&Accessories',\n",
       "       'Home&Kitchen|Kitchen&HomeAppliances|SmallKitchenAppliances|WaffleMakers&Irons',\n",
       "       'Home&Kitchen|Kitchen&HomeAppliances|Coffee,Tea&Espresso|StovetopEspressoPots',\n",
       "       'Home&Kitchen|Kitchen&HomeAppliances|Coffee,Tea&Espresso|CoffeeMakerAccessories|MeasuringSpoons',\n",
       "       'Home&Kitchen|Kitchen&HomeAppliances|Coffee,Tea&Espresso|CoffeePresses',\n",
       "       'Home&Kitchen|Kitchen&HomeAppliances|SmallKitchenAppliances|RotiMakers',\n",
       "       'Home&Kitchen|Heating,Cooling&AirQuality|Parts&Accessories|FanParts&Accessories',\n",
       "       'Home&Kitchen|Kitchen&HomeAppliances|SmallKitchenAppliances|StandMixers',\n",
       "       'Home&Kitchen|Heating,Cooling&AirQuality|Fans|PedestalFans',\n",
       "       'Home&Kitchen|Kitchen&HomeAppliances|Vacuum,Cleaning&Ironing|Vacuums&FloorCare|VacuumAccessories|VacuumBags|HandheldBags'],\n",
       "      dtype=object)"
      ]
     },
     "execution_count": 10,
     "metadata": {},
     "output_type": "execute_result"
    }
   ],
   "source": [
    "df['category'].unique()"
   ]
  },
  {
   "cell_type": "code",
   "execution_count": 11,
   "id": "cd674c23-9522-4dcc-be33-4d07bea47102",
   "metadata": {},
   "outputs": [
    {
     "data": {
      "text/plain": [
       "category\n",
       "Computers&Accessories|Accessories&Peripherals|Cables&Accessories|Cables|USBCables                                          233\n",
       "Electronics|WearableTechnology|SmartWatches                                                                                 76\n",
       "Electronics|Mobiles&Accessories|Smartphones&BasicMobiles|Smartphones                                                        68\n",
       "Electronics|HomeTheater,TV&Video|Televisions|SmartTelevisions                                                               63\n",
       "Electronics|Headphones,Earbuds&Accessories|Headphones|In-Ear                                                                52\n",
       "                                                                                                                          ... \n",
       "Electronics|Cameras&Photography|Accessories|Batteries&Chargers|BatteryChargers                                               1\n",
       "Computers&Accessories|NetworkingDevices|DataCards&Dongles                                                                    1\n",
       "Electronics|HomeAudio|Speakers|MultimediaSpeakerSystems                                                                      1\n",
       "OfficeProducts|OfficePaperProducts|Paper|Copy&PrintingPaper|ColouredPaper                                                    1\n",
       "Home&Kitchen|Kitchen&HomeAppliances|Vacuum,Cleaning&Ironing|Vacuums&FloorCare|VacuumAccessories|VacuumBags|HandheldBags      1\n",
       "Name: count, Length: 211, dtype: int64"
      ]
     },
     "execution_count": 11,
     "metadata": {},
     "output_type": "execute_result"
    }
   ],
   "source": [
    "df['category'].value_counts()"
   ]
  },
  {
   "cell_type": "code",
   "execution_count": 12,
   "id": "1a2f1116-264c-4599-9e6f-1f97bb37df5b",
   "metadata": {},
   "outputs": [
    {
     "data": {
      "text/plain": [
       "array(['₹399', '₹199', '₹329', '₹154', '₹149', '₹176.63', '₹229', '₹499',\n",
       "       '₹299', '₹219', '₹350', '₹159', '₹349', '₹13,999', '₹249',\n",
       "       '₹13,490', '₹970', '₹279', '₹59', '₹11,499', '₹14,999', '₹179',\n",
       "       '₹389', '₹599', '₹99', '₹899', '₹32,999', '₹209', '₹19,999',\n",
       "       '₹999', '₹333', '₹507', '₹309', '₹1,199', '₹799', '₹6,999', '₹230',\n",
       "       '₹649', '₹15,999', '₹348', '₹32,990', '₹139', '₹263', '₹7,999',\n",
       "       '₹1,599', '₹26,999', '₹115', '₹10,901', '₹1,434', '₹7,299', '₹325',\n",
       "       '₹29,999', '₹27,999', '₹30,990', '₹269', '₹24,999', '₹18,990',\n",
       "       '₹290', '₹345', '₹1,099', '₹719', '₹849', '₹21,999', '₹449',\n",
       "       '₹37,999', '₹7,390', '₹273.10', '₹15,990', '₹210', '₹1,299',\n",
       "       '₹347', '₹228', '₹1,499', '₹8,499', '₹20,990', '₹9,999', '₹489',\n",
       "       '₹23,999', '₹689', '₹1,699', '₹655', '₹749', '₹195', '₹416',\n",
       "       '₹368', '₹29,990', '₹339', '₹15,490', '₹9,490', '₹637', '₹1,089',\n",
       "       '₹12,499', '₹1,399', '₹88', '₹57.89', '₹205', '₹949', '₹379',\n",
       "       '₹8,990', '₹486', '₹5,699', '₹709', '₹47,990', '₹320', '₹129',\n",
       "       '₹225', '₹547', '₹259', '₹239', '₹467', '₹11,990', '₹252', '₹204',\n",
       "       '₹6,490', '₹235', '₹42,999', '₹173', '₹848.99', '₹1,249', '₹213',\n",
       "       '₹598', '₹31,999', '₹128.31', '₹254', '₹89', '₹549', '₹77,990',\n",
       "       '₹182', '₹96', '₹54,990', '₹439', '₹789', '₹790', '₹4,699',\n",
       "       '₹18,999', '₹1,990', '₹2,299', '₹35,999', '₹8,999', '₹917',\n",
       "       '₹45,999', '₹119', '₹21,990', '₹417.44', '₹215', '₹1,289', '₹609',\n",
       "       '₹1,850', '₹13,990', '₹185', '₹218', '₹893', '₹10,990', '₹16,999',\n",
       "       '₹699', '₹2,699', '₹246', '₹247', '₹1,369', '₹24,990', '₹61,999',\n",
       "       '₹24,499', '₹10,499', '₹197', '₹1,519', '₹46,999', '₹1,799',\n",
       "       '₹1,998', '₹1,999', '₹2,049', '₹6,499', '₹28,999', '₹569',\n",
       "       '₹1,898', '₹9,499', '₹959', '₹1,149', '₹1,219', '₹18,499', '₹369',\n",
       "       '₹12,999', '₹2,199', '₹16,499', '₹3,999', '₹2,998', '₹15,499',\n",
       "       '₹873', '₹539', '₹1,075', '₹529', '₹4,790', '₹33,999', '₹10,999',\n",
       "       '₹34,999', '₹2,999', '₹20,999', '₹22,999', '₹134', '₹7,499',\n",
       "       '₹1,324', '₹12,490', '₹17,999', '₹2,099', '₹337', '₹251', '₹95',\n",
       "       '₹4,499', '₹1,989', '₹4,999', '₹2,499', '₹79', '₹2,179', '₹44,999',\n",
       "       '₹2,599', '₹2,799', '₹3,799', '₹281', '₹7,998', '₹120', '₹7,915',\n",
       "       '₹1,055', '₹150', '₹474', '₹265', '₹37,990', '₹314', '₹365',\n",
       "       '₹289', '₹217', '₹1,220', '₹475', '₹798', '₹266', '₹50', '₹130',\n",
       "       '₹4,098', '₹519', '₹1,295', '₹1,889', '₹455', '₹1,059', '₹717',\n",
       "       '₹39', '₹889', '₹191', '₹522', '₹681', '₹429', '₹100', '₹1,049',\n",
       "       '₹656', '₹1,109', '₹169', '₹157', '₹479', '₹1,598', '₹294', '₹828',\n",
       "       '₹745', '₹1,549', '₹1,469', '₹198', '₹12,000', '₹6,299', '₹571',\n",
       "       '₹448', '₹579', '₹137', '₹1,495', '₹440', '₹1,329', '₹570',\n",
       "       '₹1,529', '₹190', '₹729', '₹480', '₹238', '₹1,349', '₹1,792',\n",
       "       '₹3,299', '₹125', '₹561', '₹5,599', '₹69', '₹478', '₹425', '₹378',\n",
       "       '₹1,815', '₹67', '₹5,799', '₹4,449', '₹629', '₹2,595', '₹90',\n",
       "       '₹1,345', '₹287', '₹879', '₹250', '₹469', '₹1,187', '₹328', '₹114',\n",
       "       '₹1,490', '₹575', '₹178', '₹939', '₹1,439', '₹175', '₹3,303',\n",
       "       '₹1,890', '₹310', '₹1,709', '₹2,025', '₹900', '₹2,490', '₹116',\n",
       "       '₹200', '₹2,649', '₹596', '₹330', '₹1,234', '₹272', '₹3,498',\n",
       "       '₹10,099', '₹397', '₹1,679', '₹354', '₹10,389', '₹1,409', '₹5,998',\n",
       "       '₹300', '₹535', '₹341', '₹5,899', '₹1,565', '₹326', '₹657',\n",
       "       '₹1,995', '₹1,500', '₹2,640', '₹5,299', '₹165', '₹398', '₹770',\n",
       "       '₹420', '₹8,349', '₹3,307', '₹380', '₹37,247', '₹298', '₹293',\n",
       "       '₹1,043', '₹1,464', '₹625', '₹1,290', '₹3,600', '₹6,549', '₹1,625',\n",
       "       '₹5,499', '₹2,148', '₹3,599', '₹351', '₹1,614', '₹678', '₹809',\n",
       "       '₹1,969', '₹1,665', '₹3,229', '₹1,260', '₹3,499', '₹1,321', '₹775',\n",
       "       '₹3,190', '₹6,199', '₹1,819', '₹3,249', '₹1,400', '₹355', '₹2,169',\n",
       "       '₹653', '₹4,789', '₹753', '₹353', '₹8,799', '₹2,095', '₹1,498',\n",
       "       '₹3,699', '₹177', '₹244', '₹1,959', '₹319', '₹9,590', '₹292',\n",
       "       '₹160', '₹600', '₹1,130', '₹3,199', '₹616', '₹610', '₹453',\n",
       "       '₹2,464', '₹2,719', '₹2,088', '₹2,399', '₹308', '₹245', '₹3,569',\n",
       "       '₹2,089', '₹2,339', '₹784', '₹1,695', '₹1,448', '₹6,990', '₹2,698',\n",
       "       '₹1,414', '₹5,999', '₹9,970', '₹698', '₹14,400', '₹664', '₹260',\n",
       "       '₹1,484', '₹4,280', '₹189', '₹1,449', '₹3,657.66', '₹1,849',\n",
       "       '₹8,199', '₹1,595', '₹1,182', '₹1,052', '₹1,547', '₹510', '₹1,899',\n",
       "       '₹14,499', '₹950', '₹7,199', '₹2,439', '₹7,799', '₹2,899',\n",
       "       '₹9,799', '₹669', '₹5,890', '₹9,199', '₹6,236', '₹2,742', '₹721',\n",
       "       '₹2,903', '₹1,656', '₹2,079', '₹3,179', '₹4,799', '₹948', '₹850',\n",
       "       '₹3,711', '₹980', '₹3,349', '₹2,249', '₹1,235', '₹6,800', '₹1,069',\n",
       "       '₹2,092', '₹3,859', '₹1,804', '₹6,525', '₹1,189', '₹2,590', '₹998',\n",
       "       '₹998.06', '₹8,886', '₹4,995', '₹395', '₹635', '₹27,900', '₹193',\n",
       "       '₹2,449', '₹2,286', '₹5,395', '₹559', '₹660', '₹419', '₹7,349',\n",
       "       '₹1,474', '₹3,645', '₹375', '₹2,976', '₹2,575', '₹1,649', '₹765',\n",
       "       '₹587', '₹12,609', '₹640', '₹979', '₹5,365', '₹929', '₹3,710',\n",
       "       '₹2,033', '₹9,495', '₹2,790', '₹645', '₹2,237.81', '₹8,699',\n",
       "       '₹42,990', '₹825', '₹161', '₹697', '₹688', '₹6,850', '₹1,090',\n",
       "       '₹295', '₹2,949', '₹335', '₹778', '₹1,190', '₹6,120', '₹3,685',\n",
       "       '₹8,599', '₹1,110', '₹759', '₹2,669', '₹85', '₹5,865', '₹1,928',\n",
       "       '₹1,456', '₹4,899', '₹3,290', '₹5,490', '₹3,041.67', '₹1,745',\n",
       "       '₹3,180', '₹390', '₹1,624', '₹184', '₹445', '₹1,601', '₹231',\n",
       "       '₹6,790', '₹1,982.84', '₹1,180', '₹253', '₹457', '₹426', '₹2,320',\n",
       "       '₹1,563', '₹3,487.77', '₹498', '₹2,695', '₹2,280', '₹2,219',\n",
       "       '₹2,863'], dtype=object)"
      ]
     },
     "execution_count": 12,
     "metadata": {},
     "output_type": "execute_result"
    }
   ],
   "source": [
    "df['discounted_price'].unique()"
   ]
  },
  {
   "cell_type": "code",
   "execution_count": 13,
   "id": "41fdbb80-0c8c-411f-a6ae-5d6f3c9014d9",
   "metadata": {},
   "outputs": [
    {
     "data": {
      "text/plain": [
       "discounted_price\n",
       "₹199      53\n",
       "₹299      46\n",
       "₹399      36\n",
       "₹499      34\n",
       "₹349      31\n",
       "          ..\n",
       "₹190       1\n",
       "₹570       1\n",
       "₹1,329     1\n",
       "₹440       1\n",
       "₹2,863     1\n",
       "Name: count, Length: 550, dtype: int64"
      ]
     },
     "execution_count": 13,
     "metadata": {},
     "output_type": "execute_result"
    }
   ],
   "source": [
    "df['discounted_price'].value_counts()"
   ]
  },
  {
   "cell_type": "code",
   "execution_count": 14,
   "id": "c84139b8-69cf-4171-bc2b-60ec14fff25a",
   "metadata": {},
   "outputs": [
    {
     "data": {
      "text/plain": [
       "array(['₹1,099', '₹349', '₹1,899', '₹699', '₹399', '₹1,000', '₹499',\n",
       "       '₹299', '₹999', '₹339', '₹799', '₹700', '₹899', '₹24,999',\n",
       "       '₹21,990', '₹1,799', '₹22,900', '₹199', '₹19,990', '₹19,999',\n",
       "       '₹1,999', '₹750', '₹599', '₹666.66', '₹1,900', '₹45,999', '₹695',\n",
       "       '₹34,999', '₹1,599', '₹1,208', '₹475', '₹395', '₹2,199', '₹500',\n",
       "       '₹2,100', '₹12,999', '₹1,399', '₹21,999', '₹1,499', '₹47,900',\n",
       "       '₹845', '₹1,400', '₹14,990', '₹2,999', '₹42,999', '₹30,990',\n",
       "       '₹3,999', '₹249', '₹19,125', '₹1,299', '₹39,999', '₹40,990',\n",
       "       '₹52,900', '₹800', '₹31,999', '₹1,809', '₹29,999', '₹65,000',\n",
       "       '₹20,000', '₹23,990', '₹15,999', '₹44,990', '₹44,999', '₹1,700',\n",
       "       '₹595', '₹27,990', '₹1,200', '₹34,990', '₹1,500', '₹49,990',\n",
       "       '₹931', '₹2,399', '₹1,339', '₹20,900', '₹15,990', '₹1,600', '₹849',\n",
       "       '₹1,199', '₹22,990', '₹2,499', '₹47,990', '₹485', '₹18,990',\n",
       "       '₹11,000', '₹70,900', '₹549', '₹35,999', '₹1,699', '₹31,990',\n",
       "       '₹9,990', '₹16,990', '₹59,999', '₹600', '₹1,490', '₹2,299',\n",
       "       '₹4,999', '₹1,749', '₹1,100', '₹49,999', '₹56,790', '₹795', '₹798',\n",
       "       '₹995', '₹1,39,900', '₹85,000', '₹758', '₹4,699', '₹24,990',\n",
       "       '₹650', '₹3,100', '₹18,999', '₹69,900', '₹670', '₹79,990',\n",
       "       '₹35,000', '₹54,990', '₹50,999', '₹4,500', '₹28,900', '₹449',\n",
       "       '₹900', '₹1,052', '₹25,999', '₹3,500', '₹14,999', '₹51,990',\n",
       "       '₹69,999', '₹50,000', '₹19,499', '₹9,999', '₹7,990', '₹8,999',\n",
       "       '₹28,999', '₹6,990', '₹11,999', '₹1,800', '₹7,999', '₹17,999',\n",
       "       '₹20,999', '₹10,999', '₹8,499', '₹495', '₹16,999', '₹5,999',\n",
       "       '₹20,990', '₹3,990', '₹33,999', '₹38,999', '₹26,999', '₹649',\n",
       "       '₹171', '₹2,899', '₹29,990', '₹1,630', '₹13,499', '₹6,999',\n",
       "       '₹6,499', '₹2,990', '₹2,400', '₹149', '₹5,299', '₹32,999',\n",
       "       '₹39,990', '₹3,499', '₹2,599', '₹1,249', '₹9,499', '₹74,999',\n",
       "       '₹4,490', '₹895', '₹237', '₹1,995', '₹315', '₹50', '₹165',\n",
       "       '₹1,290', '₹2,498', '₹5,499', '₹1,350', '₹1,295', '₹761', '₹2,500',\n",
       "       '₹180', '₹225', '₹4,499', '₹550', '₹3,490', '₹250', '₹2,800',\n",
       "       '₹404', '₹160', '₹3,000', '₹861', '₹2,495', '₹13,750', '₹59',\n",
       "       '₹3,299', '₹375', '₹440', '₹2,000', '₹2,900', '₹100', '₹1,795',\n",
       "       '₹220', '₹1,650', '₹2,198', '₹4,100', '₹1,190', '₹99', '₹3,495',\n",
       "       '₹720', '₹590', '₹7,350', '₹2,595', '₹2,490', '₹4,990', '₹75',\n",
       "       '₹2,699', '₹5,734', '₹1,390', '₹3,295', '₹2,911', '₹175', '₹3,250',\n",
       "       '₹2,295', '₹450', '₹1,109', '₹1,929', '₹400', '₹120', '₹2,799',\n",
       "       '₹210', '₹2,890', '₹4,700', '₹4,332.96', '₹990', '₹5,490',\n",
       "       '₹2,790', '₹1,645', '₹310', '₹4,199', '₹4,000', '₹200', '₹230',\n",
       "       '₹2,796', '₹723', '₹12,499', '₹320', '₹3,875', '₹19,110', '₹150',\n",
       "       '₹775', '₹32,000', '₹1,300', '₹300', '₹535', '₹7,005', '₹2,895',\n",
       "       '₹3,195', '₹6,355', '₹7,500', '₹39', '₹37,999', '₹1,990', '₹1,949',\n",
       "       '₹1,547', '₹1,150', '₹1,090', '₹3,599', '₹420', '₹9,625', '₹6,100',\n",
       "       '₹59,890', '₹1,245', '₹1,695', '₹1,549', '₹1,445', '₹3,193',\n",
       "       '₹1,345', '₹6,190', '₹13,999', '₹2,995', '₹5,890', '₹13,150',\n",
       "       '₹785', '₹3,210', '₹1,595', '₹3,645', '₹7,950', '₹1,745', '₹1,545',\n",
       "       '₹5,000', '₹3,945', '₹2,099', '₹5,295', '₹3,595', '₹1,129',\n",
       "       '₹5,795', '₹875', '₹15,270', '₹4,195', '₹1,989', '₹1,111',\n",
       "       '₹10,400', '₹6,295', '₹9,650', '₹10,590', '₹89', '₹2,485',\n",
       "       '₹3,279', '₹3,799', '₹7,299', '₹625', '₹1,020', '₹8,990', '₹1,639',\n",
       "       '₹11,595', '₹1,750', '₹2,095', '₹2,300', '₹4,295', '₹749',\n",
       "       '₹1,775', '₹1,130', '₹9,455', '₹825', '₹9,995', '₹6,000', '₹5,550',\n",
       "       '₹4,590', '₹4,400', '₹5,190', '₹940', '₹79', '₹14,290', '₹1,950',\n",
       "       '₹3,190', '₹2,660', '₹59,900', '₹6,375', '₹350', '₹8,500',\n",
       "       '₹1,560', '₹6,500', '₹7,795', '₹5,995', '₹2,349', '₹4,775',\n",
       "       '₹1,230', '₹5,156', '₹19,825', '₹1,920', '₹16,000', '₹11,995',\n",
       "       '₹1,690', '₹1,790', '₹8,995', '₹239', '₹4,290', '₹640', '₹3,790',\n",
       "       '₹4,560', '₹2,600', '₹3,300', '₹23,559', '₹2,545', '₹5,500',\n",
       "       '₹12,150', '₹4,995', '₹7,506', '₹18,000', '₹1,850', '₹3,995',\n",
       "       '₹2,695', '₹2,290', '₹3,099', '₹1,075', '₹7,290', '₹3,398',\n",
       "       '₹1,620', '₹4,495', '₹980', '₹11,500', '₹3,550', '₹1,975',\n",
       "       '₹4,600', '₹10,295', '₹2,380', '₹8,820', '₹4,200', '₹1,282',\n",
       "       '₹11,850', '₹20,049', '₹24,850', '₹16,490', '₹975', '₹635',\n",
       "       '₹3,390', '₹1,010', '₹10,900', '₹4,005', '₹4,650', '₹24,500',\n",
       "       '₹6,070', '₹6,700', '₹970', '₹23,999', '₹850', '₹7,445', '₹1,395',\n",
       "       '₹4,330', '₹12,500', '₹2,385', '₹4,890', '₹3,899', '₹16,899',\n",
       "       '₹75,990', '₹747', '₹11,990', '₹4,849', '₹510', '₹2,550', '₹8,478',\n",
       "       '₹3,895', '₹5,495', '₹3,199', '₹7,776', '₹2,590', '₹6,299',\n",
       "       '₹4,799', '₹5,799', '₹7,200', '₹389', '₹13,049', '₹3,890', '₹260',\n",
       "       '₹8,073', '₹2,360', '₹11,495', '₹4,780', '₹10,995', '₹1,440',\n",
       "       '₹3,045', '₹3,290', '₹3,098', '₹919', '₹3,080', '₹1,890', '₹3,690'],\n",
       "      dtype=object)"
      ]
     },
     "execution_count": 14,
     "metadata": {},
     "output_type": "execute_result"
    }
   ],
   "source": [
    "df['actual_price'].unique()"
   ]
  },
  {
   "cell_type": "code",
   "execution_count": 15,
   "id": "0b72def8-4607-41b0-8d0f-70680eea5bcc",
   "metadata": {},
   "outputs": [
    {
     "data": {
      "text/plain": [
       "actual_price\n",
       "₹999      120\n",
       "₹499       71\n",
       "₹1,999     56\n",
       "₹1,499     37\n",
       "₹399       34\n",
       "         ... \n",
       "₹931        1\n",
       "₹3,599      1\n",
       "₹420        1\n",
       "₹9,625      1\n",
       "₹3,690      1\n",
       "Name: count, Length: 449, dtype: int64"
      ]
     },
     "execution_count": 15,
     "metadata": {},
     "output_type": "execute_result"
    }
   ],
   "source": [
    "df['actual_price'].value_counts()"
   ]
  },
  {
   "cell_type": "code",
   "execution_count": 16,
   "id": "1f876eb2-f332-4b54-b969-7049ae3f8663",
   "metadata": {},
   "outputs": [
    {
     "data": {
      "text/plain": [
       "array(['64%', '43%', '90%', '53%', '61%', '85%', '65%', '23%', '50%',\n",
       "       '33%', '55%', '63%', '69%', '60%', '13%', '44%', '38%', '39%',\n",
       "       '46%', '41%', '70%', '42%', '72%', '25%', '51%', '73%', '0%',\n",
       "       '80%', '28%', '67%', '58%', '35%', '45%', '62%', '54%', '27%',\n",
       "       '77%', '56%', '78%', '31%', '86%', '47%', '37%', '75%', '32%',\n",
       "       '68%', '66%', '22%', '57%', '17%', '52%', '88%', '20%', '59%',\n",
       "       '40%', '26%', '29%', '83%', '71%', '15%', '76%', '48%', '82%',\n",
       "       '36%', '89%', '87%', '24%', '34%', '11%', '91%', '7%', '19%',\n",
       "       '79%', '21%', '81%', '18%', '49%', '30%', '84%', '10%', '6%',\n",
       "       '14%', '74%', '4%', '5%', '16%', '8%', '2%', '94%', '12%', '3%',\n",
       "       '9%'], dtype=object)"
      ]
     },
     "execution_count": 16,
     "metadata": {},
     "output_type": "execute_result"
    }
   ],
   "source": [
    "df['discount_percentage'].unique()"
   ]
  },
  {
   "cell_type": "code",
   "execution_count": 17,
   "id": "747c6398-ed7f-4047-bb14-c13695c97f56",
   "metadata": {},
   "outputs": [
    {
     "data": {
      "text/plain": [
       "discount_percentage\n",
       "50%    56\n",
       "60%    56\n",
       "0%     49\n",
       "80%    37\n",
       "55%    36\n",
       "       ..\n",
       "2%      2\n",
       "7%      2\n",
       "94%     1\n",
       "89%     1\n",
       "9%      1\n",
       "Name: count, Length: 92, dtype: int64"
      ]
     },
     "execution_count": 17,
     "metadata": {},
     "output_type": "execute_result"
    }
   ],
   "source": [
    "df['discount_percentage'].value_counts()"
   ]
  },
  {
   "cell_type": "code",
   "execution_count": 18,
   "id": "a62ef262-a1a3-4946-93f8-ce4435bc83e0",
   "metadata": {},
   "outputs": [
    {
     "data": {
      "text/plain": [
       "array(['4.2', '4.0', '3.9', '4.1', '4.3', '4.4', '4.5', '3.7', '3.3',\n",
       "       '3.6', '3.4', '3.8', '3.5', '4.6', '3.2', '5.0', '4.7', '3.0',\n",
       "       '2.8', '4', '3.1', '4.8', '2.3', '|', '2', '3', '2.6', '2.9'],\n",
       "      dtype=object)"
      ]
     },
     "execution_count": 18,
     "metadata": {},
     "output_type": "execute_result"
    }
   ],
   "source": [
    "df['rating'].unique()"
   ]
  },
  {
   "cell_type": "code",
   "execution_count": 19,
   "id": "ebc8d8be-07d2-4638-ad41-95b13d44e660",
   "metadata": {},
   "outputs": [
    {
     "data": {
      "text/plain": [
       "rating\n",
       "4.1    244\n",
       "4.3    230\n",
       "4.2    228\n",
       "4.0    129\n",
       "3.9    123\n",
       "4.4    123\n",
       "3.8     86\n",
       "4.5     75\n",
       "4       52\n",
       "3.7     42\n",
       "3.6     35\n",
       "3.5     26\n",
       "4.6     17\n",
       "3.3     16\n",
       "3.4     10\n",
       "4.7      6\n",
       "3.1      4\n",
       "5.0      3\n",
       "3.0      3\n",
       "4.8      3\n",
       "3.2      2\n",
       "2.8      2\n",
       "2.3      1\n",
       "|        1\n",
       "2        1\n",
       "3        1\n",
       "2.6      1\n",
       "2.9      1\n",
       "Name: count, dtype: int64"
      ]
     },
     "execution_count": 19,
     "metadata": {},
     "output_type": "execute_result"
    }
   ],
   "source": [
    "df['rating'].value_counts()"
   ]
  },
  {
   "cell_type": "code",
   "execution_count": 20,
   "id": "336f1d67-d7c2-4087-a0ff-912caf30f8d0",
   "metadata": {},
   "outputs": [
    {
     "data": {
      "text/plain": [
       "array(['24,269', '43,994', '7,928', ..., '468', '8,031', '6,987'],\n",
       "      dtype=object)"
      ]
     },
     "execution_count": 20,
     "metadata": {},
     "output_type": "execute_result"
    }
   ],
   "source": [
    "df['rating_count'].unique()"
   ]
  },
  {
   "cell_type": "code",
   "execution_count": 21,
   "id": "f2a04573-699b-49f8-8270-4c11a8f2d4d4",
   "metadata": {},
   "outputs": [
    {
     "data": {
      "text/plain": [
       "rating_count\n",
       "9,378     9\n",
       "18,998    8\n",
       "24,269    7\n",
       "43,994    6\n",
       "32,840    5\n",
       "         ..\n",
       "17,810    1\n",
       "53,648    1\n",
       "2,014     1\n",
       "5,958     1\n",
       "6,987     1\n",
       "Name: count, Length: 1143, dtype: int64"
      ]
     },
     "execution_count": 21,
     "metadata": {},
     "output_type": "execute_result"
    }
   ],
   "source": [
    "df['rating_count'].value_counts()"
   ]
  },
  {
   "cell_type": "code",
   "execution_count": 22,
   "id": "2ae8a735-cdbc-4c8f-8f97-d21a3d9d56fe",
   "metadata": {},
   "outputs": [
    {
     "data": {
      "text/plain": [
       "array([\"High Compatibility : Compatible With iPhone 12, 11, X/XsMax/Xr ,iPhone 8/8 Plus,iPhone 7/7 Plus,iPhone 6s/6s Plus,iPhone 6/6 Plus,iPhone 5/5s/5c/se,iPad Pro,iPad Air 1/2,iPad mini 1/2/3,iPod nano7,iPod touch and more apple devices.|Fast Charge&Data Sync : It can charge and sync simultaneously at a rapid speed, Compatible with any charging adaptor, multi-port charging station or power bank.|Durability : Durable nylon braided design with premium aluminum housing and toughened nylon fiber wound tightly around the cord lending it superior durability and adding a bit to its flexibility.|High Security Level : It is designed to fully protect your device from damaging excessive current.Copper core thick+Multilayer shielding, Anti-interference, Protective circuit equipment.|WARRANTY: 12 months warranty and friendly customer services, ensures the long-time enjoyment of your purchase. If you meet any question or problem, please don't hesitate to contact us.\",\n",
       "       'Compatible with all Type C enabled devices, be it an android smartphone (Mi, Samsung, Oppo, Vivo, Realme, OnePlus, etc), tablet, laptop (Macbook, Chromebook, etc)|Supports Quick Charging (2.0/3.0)|Unbreakable – Made of special braided outer with rugged interior bindings, it is ultra-durable cable that won’t be affected by daily rough usage|Ideal Length – It has ideal length of 1.5 meters which is neither too short like your typical 1meter cable or too long like a 2meters cable|Supports maximum 3A fast charging and 480 Mbps data transfer speed|6 months manufacturer warranty from the date of purchase',\n",
       "       \"【 Fast Charger& Data Sync】-With built-in safety proctections and four-core copper wires promote maximum signal quality and strength and enhance charging & data transfer speed with up to 480 mb/s transferring speed.|【 Compatibility】-Compatible with iPhone 13, 12,11, X, 8, 7, 6, 5, iPad Air, Pro, Mini & iOS devices.|【 Sturdy & Durable】-The jacket and enforced connector made of TPE and premium copper, are resistant to repeatedly bending and coiling.|【 Ultra High Quality】: According to the experimental results, the fishbone design can accept at least 20,000 bending and insertion tests for extra protection and durability. Upgraded 3D aluminum connector and exclusive laser welding technology, which to ensure the metal part won't break and also have a tighter connection which fits well even with a protective case on and will never loose connection.|【 Good After Sales Service】-Our friendly and reliable customer service will respond to you within 24 hours ! you can purchase with confidence,and every sale includes a 365-day worry-free Service to prove the importance we set on quality.\",\n",
       "       ...,\n",
       "       'International design and styling|Two heat settings 1000 W and 2000 W. Rated Voltage : 230 V|Adjustable thermostat for desirable temperature|Fan forced hot air circulation|Cool touch housing with built in handle|Two way installation- vertical and horizontal|Heater in winter, personal fan in summer',\n",
       "       'Fan sweep area: 230 MM ; Noise level: (40 - 45) dB; Fan body dimension (Length x Width x Depth): 290MM x 290MM x 200MM|With bird guard to protect the fan in running condition, Air flow rate: 510 cmh , Speed: 1350 RPM , Sweep size: 230 mm , Guard: 29 Spokes. Rated frequency : 50 Hz. Pull cord : No|Powder coated metallic finish, Adjustable upward and downward tilt mechanism: No|Sturdy steel bird guard with specially designed metal blade|For any functional defect, please reach out to customer care team @ Email: customercare@h',\n",
       "       'Brand-Borosil, Specification â€“ 23V ~ 5Hz;1 W Power for Faster Grilling|Makes 2 Sandwiches in minutes;Stainless Steel Mirror Finish Body; Easy to use;Easy to clean coated plates|Auto-lock latch;Larger deep ribbed grill plates for Krisp grilling|Rubber feet to avoid slipping on Countertop;Indicator Display.|Material Type: Plastic|Suitable for gifting on Diwali and other special occasions.'],\n",
       "      dtype=object)"
      ]
     },
     "execution_count": 22,
     "metadata": {},
     "output_type": "execute_result"
    }
   ],
   "source": [
    "df['about_product'].unique()"
   ]
  },
  {
   "cell_type": "code",
   "execution_count": 23,
   "id": "bfcc6ca2-d2a4-4460-86aa-ed044bd966b7",
   "metadata": {},
   "outputs": [
    {
     "data": {
      "text/plain": [
       "about_product\n",
       "[CHARGE & SYNC FUNCTION]- This cable comes with charging & Data sync function|[HIGH QUALITY MATERIAL]- TPE + Nylon Material to make sure that the life of the cable is enhanced significantly|[LONG CORD]- The Cable is extra thick 1.2 meter long, optimized for an easy use for your comfort at home or office|[MORE DURABLE]-This cable is unique interms of design and multi-use and is positioned to provide the best comfort and performance while using|[UNIVERSAL COMPATIBILITY]- Compatible with all devices like iPhone XS, X, XR, 8, 7, 6S, 6, 5S, iPad Pro, iPad mini and iPad Air                                                                                                                                                                                                                                                                                                                                                                                                                                                                                                                                                                                                                                                                                                                                                                                                                                                                                                                            6\n",
       "Added Protection: An additional layer of protection has been added to the Lightning and USB ends to improve durability and reduce fraying;                                                                                                                                                                                                                                                                                                                                                                                                                                                                                                                                                                                                                                                                                                                                                                                                                                                                                                                                                                                                                                                                                                                                                                                                                                                                                                                                                                                5\n",
       "Bluetooth Calling- Wave Call comes with a premium built-in speaker and bluetooth calling via which you can stay connected to your friends, family, and colleagues|Dial Pad- Its dial pad is super responsive and convenient. You can also save upto 10 contacts in this smart watch|Screen Size- Wave Call comes with a 1.69” HD Display that features a bold, bright, and highly responsive 2.5D curved touch interface|Resolution- With 550 nits of brightness get sharper color resolution that brightens your virtual world exponentially.|Design- The ultra slim and lightweight design of the watch is ideal to keep you surfing your wave all day!|Watch Faces- Wave Call comes with 150+ Cloud watchfaces for you to pick from, complementing your every mood and outfit|HR, SpO2 & Breathing- Monitor your heart rate and blood oxygen levels on-the-go with the heart rate and SpO2 monitor. It also comes with Guided Breathing to help you relax and embrace mindfulness.                                                                                                                                                                                                                                                                                                                                                                                                                                                                                                                                     5\n",
       "The boAt Deuce USB 300 2 in 1 cable is compatible with smartphones, tablets, PC peripherals, Bluetooth speakers, power banks and all other devices with Type-C as well as Micro USB port|It ensures 3A fast charging and data transmissions with rapid sync at 480 mbps|The premium Nylon braided skin makes it sturdy and invincible against external damage|Its Aluminium alloy shell housing makes it last longer with 10000+ Bends Lifespan with extended frame protection for strain relief|The resilient and flexible design offers a tangle free experience seamlessly|Deuce USB 300 cable offers a perfect 1.5 meters in length for smooth & hassle-free user experience|2 years warranty from the date of purchase                                                                                                                                                                                                                                                                                                                                                                                                                                                                                                                                                                                                                                                                                                                                                                                               4\n",
       "Screen Size: The 1.69 inch HD full touch display with 500 nits of brightness will bring every detail to life!|Resolution: Get sharper color resolution that brightens your virtual world exponentially.|Slim Design: The ultra slim and lightweight design of the watch is ideal to keep you surfing your wave all day!|Sports Modes: Track your daily activity: calories burnt & steps taken. Choose from multiple sports modes which include Walking, Running, Cycling, Climbing, Yoga, Basketball, Football & many more|Google Fit & Apple Health: The watch supports Google and Apple Fit to seamlessly monitor your health.|IP Rating: Sweat freely while you work out with IP68 dust, sweat and splash resistance.|Watch Faces- Customize your style with 140+ based watch faces.                                                                                                                                                                                                                                                                                                                                                                                                                                                                                                                                                                                                                                                                                                                                   4\n",
       "                                                                                                                                                                                                                                                                                                                                                                                                                                                                                                                                                                                                                                                                                                                                                                                                                                                                                                                                                                                                                                                                                                                                                                                                                                                                                                                                                                                                                                                                                                                         ..\n",
       "> ★ ★------->EASY TO FOLD OUT: Clever folding design allows the legs to fold flat so you can easily put it behind the door or the corner of home when not in use. No need to install everytime you use.|>★★------->LARGE, STABLE, PORTABLE FOLDING TABLE: The folding size of our laptop desk is about 60cm(L) * 39.5cm(W) * 27cm(H) such that it fits upto 11-17inch laptops and also a space for mouse. Built-in iPad stand groove for holding ipad or kindle. Our table comes with a table cup holder to keep your favorite drink within reach.|>★ ★------->MULTI-PURPOSE LAPTOP DESK: Laptop bed tray is perfect lap desks for work, games, reading, eating and school from the comfort of your bed, floor, sofa or couch. Great work from home gift & bed accessories!|> ★ ★------->NON-SLIP BOTTOM DESIGN: The steel feet are covered with black sponge for good anti-slip effect to keep your laptop safe without slipping when in tilted position. Also provides you a comfort and stability while using.|>★ ★------->ENVIRONMENTAL FRIENDLY MATERIALS: Laptop Bed Table is made of MDF solid wood particle board, safe and environmentally friendly. The surface is smooth, non-toxic, not easy to stretch, moisture-proof, scratch-resistant, high-temperature resistant. While the legs are made of aluminum alloy tube with powder coated finishing work, it is more strong, sturdy and curved ergonomic tabletop designed for sitting. This table will last for a lifetime and will remain corrosion-free    1\n",
       "Playback- Airdopes 121v2 offers a nonstop playback of up to 3.5H with each charge and an additional 10.5H playtime with the included charging case|Lightweight- With a dual tone finish on a lightweight ergonomic design weighing just around 4g per earbud, get ready to groove in full flow with Airdopes 121v2v2 TWS earbuds|Drivers- It possesses powerful 8mm drivers that pump out immersive auditory experience all day long|Battery Indicator- Its carry cum charge case also has the battery LED indicator that shows the remaining power for the case|Controls- The true wireless earbuds offer easy access multifunction button controls with stereo calling feature for an overall seamless user experience.|Bluetooth- These true wireless earbuds offer a true wireless experience for real time audio with Bluetooth v5.0.|Voice Assistant- You can access the instant voice assistant via just a single press of the Multifunction Button|1 year warranty from the date of purchase                                                                                                                                                                                                                                                                                                                                                                                                                                                                                                                      1\n",
       "Toys and Games Portable Ruff Pad E-Writer, 8.5 inch LCD Display|One-touch Erase Button : Tablet displays your notes until you erase them with the touch of a button.One-touch button erases notes instantly.|Pressure-sensitive screen lets you create thick and thin lines. Durable case and recessed screen are safe for school, travel and home use.|Tablet displays your notes until you erase them with the touch of a button, One-touch button erases notes instantly.|Best Birthday Gift For Kids. Color may vary as per Availability                                                                                                                                                                                                                                                                                                                                                                                                                                                                                                                                                                                                                                                                                                                                                                                                                                                                                                                                                                              1\n",
       "Reliable Wireless Connection : Enjoy a wireless connection up to 10m away thanks to a plug-and-forget USB mini-receiver|Optical Tracking : The advanced optical tracking features enable ultra precise moves on almost any surface. Required: available USB port, Windows 7, 8, 10 or later, macOS 10.5 or later, Chrome OS, Linux Kernel 2.6+|12-Month Battery Life : Don’t worry about constant battery changes as this wired Logitech mouse has a 12-month battery life.|Quality Assured : Logitech are experts you can trust, and for more than 30 years we have created high-quality corded, cordless and Bluetooth products that help you get the most out of your Windows computer, laptop, Mac or Macbook|Reliable Wireless Connection : Enjoy a wireless connection up to 10m away thanks to a plug-and-forget USB mini-receiver|Note : In case of Wireless mouse, the USB receiver will be provided inside or along with the mouse|Optical Tracking : The advanced optical tracking features enable ultra precise moves on almost any surface.                                                                                                                                                                                                                                                                                                                                                                                                                                                                  1\n",
       "Brand-Borosil, Specification â€“ 23V ~ 5Hz;1 W Power for Faster Grilling|Makes 2 Sandwiches in minutes;Stainless Steel Mirror Finish Body; Easy to use;Easy to clean coated plates|Auto-lock latch;Larger deep ribbed grill plates for Krisp grilling|Rubber feet to avoid slipping on Countertop;Indicator Display.|Material Type: Plastic|Suitable for gifting on Diwali and other special occasions.                                                                                                                                                                                                                                                                                                                                                                                                                                                                                                                                                                                                                                                                                                                                                                                                                                                                                                                                                                                                                                                                                                                   1\n",
       "Name: count, Length: 1293, dtype: int64"
      ]
     },
     "execution_count": 23,
     "metadata": {},
     "output_type": "execute_result"
    }
   ],
   "source": [
    "df['about_product'].value_counts()"
   ]
  },
  {
   "cell_type": "code",
   "execution_count": 24,
   "id": "4efa3d60-2054-4cd4-a6c6-307a8d5d1783",
   "metadata": {},
   "outputs": [
    {
     "data": {
      "text/plain": [
       "array(['AG3D6O4STAQKAY2UVGEUV46KN35Q,AHMY5CWJMMK5BJRBBSNLYT3ONILA,AHCTC6ULH4XB6YHDY6PCH2R772LQ,AGYHHIERNXKA6P5T7CZLXKVPT7IQ,AG4OGOFWXJZTQ2HKYIOCOY3KXF2Q,AENGU523SXMOS7JPDTW52PNNVWGQ,AEQJHCVTNINBS4FKTBGQRQTGTE5Q,AFC3FFC5PKFF5PMA52S3VCHOZ5FQ',\n",
       "       'AECPFYFQVRUWC3KGNLJIOREFP5LQ,AGYYVPDD7YG7FYNBXNGXZJT525AQ,AHONIZU3ICIEHQIGQ6R2VFRSBXOQ,AFPHD2CRPDZMWMBL7WXRSVYWS5JA,AEZ346GX3HJ4O4XNRPHCNHXQURMQ,AEPSWFPNECKO34PUC7I56ITGXR6Q,AHWVEHR5DYLVFTO2KF3IZATFQSWQ,AH4QT33M55677I7ISQOAKEQWACYQ',\n",
       "       'AGU3BBQ2V2DDAMOAKGFAWDDQ6QHA,AESFLDV2PT363T2AQLWQOWZ4N3OA,AHTPQRIMGUD4BYR5YIHBH3CCGEFQ,AEUVWXYP5LT7PZLLZENEO2NODPBQ,AHC7MPW55DOO6WNCOQVA2VHOD26A,AFDI6FRPFBTNBG7BAEB7JDJSMKDQ,AFQKCEEEKXCOHTDG4WUN3XPPHJQQ,AHKUUFNMBZIDLSSPA4FEHIO2EC7Q',\n",
       "       ...,\n",
       "       'AGVPWCMAHYQWJOQKMUJN4DW3KM5Q,AF4Q3E66MY4SR7YQZSWBBRU5XQKQ,AEM2ZDSQE4QZIGTCTE4HSNZOS7DQ,AEHMIAQFYXW3CY6Z37ABRXSOJRPA,AHJCYSNMFLZM7CA4FGDPU7A4UHYQ,AEQTWNQ6GKTOSJO3ZEPHRTH56VCA,AHIHPBLP6PPV66Y3AWOSYFBVZPFA,AGHBKUHIWVOPUQYFRA6PXIIC6R5Q',\n",
       "       'AF2JQCLSCY3QJATWUNNHUSVUPNQQ,AFDMLUXC5LS5RXDJSJJRHNBURIVQ,AHMWJ32LQF2YEADFPUML4EKXUC3Q,AFXERFNWKFFWECCPZJBRP2N23XJA,AG74HALEHHRAVFNXFHBM75RWZD6Q,AEDOS7O5DUVDYA7EHU6VERPRAFMA,AFKWDCNGBBYBDQBKMFJUVJYY77XQ,AGQCHAIK5FZZOA67FTG7HET7VVJQ',\n",
       "       'AFGW5PT3R6ZAVQR4Y5MWVAKBZAYA,AG7QNJ2SCS5VS5VYYBNV4HDSIJ4Q,AFUDGN5MEXLKUULNTM7Y2G5P7TYA,AHXCDNSXAESERITAFELQABFVNLCA,AGRZD6CHLCUNOLMMIMIHUCG7PIFA,AFQZVGSOSOJHKFQQMCEI4725QEKQ,AEALVGXXIP46OZVXKRUXSDWZJMEA,AGEFL3AY7YXEFZA4ZJU3LP7K7OJQ'],\n",
       "      dtype=object)"
      ]
     },
     "execution_count": 24,
     "metadata": {},
     "output_type": "execute_result"
    }
   ],
   "source": [
    "df['user_id'].unique()"
   ]
  },
  {
   "cell_type": "code",
   "execution_count": 25,
   "id": "b5f48662-5fb5-4b1a-8b93-74133ed4868e",
   "metadata": {},
   "outputs": [
    {
     "data": {
      "text/plain": [
       "user_id\n",
       "AHIKJUDTVJ4T6DV6IUGFYZ5LXMPA,AE55KTFVNXYFD5FPYWP2OUPEYNPQ,AEBWA5I4QFCA3P3OBEPMELBGN4GQ,AHMGAC6QM62UXNEOCZIHLHSXPP2Q,AFHROSCGIXUPV3FYQ7H5QOD46Q7Q,AEAMIR3CMSA32IDEINSJKHRNANTA,AF355FTXYAKFH5NYPRTE7SL3WO3Q,AG5DWPD54QGSLWJ6QUFERLPNAX4Q    10\n",
       "AG3D6O4STAQKAY2UVGEUV46KN35Q,AHMY5CWJMMK5BJRBBSNLYT3ONILA,AHCTC6ULH4XB6YHDY6PCH2R772LQ,AGYHHIERNXKA6P5T7CZLXKVPT7IQ,AG4OGOFWXJZTQ2HKYIOCOY3KXF2Q,AENGU523SXMOS7JPDTW52PNNVWGQ,AEQJHCVTNINBS4FKTBGQRQTGTE5Q,AFC3FFC5PKFF5PMA52S3VCHOZ5FQ     8\n",
       "AGAELRYPMTG5SADZPDYB343EASAA,AGFN4JODOM2NTFCJQOHDBQLVDJTQ,AG7EZVSAXIVGMNDLSA55K7URQCJA,AGGF75HIEMB67OU7J3RDALBSUKQQ,AHY5CI4SU6JBYPIZ5RLAGO6W3F4A,AE4KODNBVTDCZWZO4HZM4GTRERPA,AH6HFHSYOY2OHMODD7244DHG7FUQ,AHRW5JERWYAJCZO65PDKZSOEPR6Q     8\n",
       "AEWAZDZZJLQUYVOVGBEUKSLXHQ5A,AG5HTSFRRE6NL3M5SGCUQBP7YSCA,AH725ST5NW2Y4JZPKUNTIJCUK2BA,AHV3TXIFCJPMS4D5JATCEUR266MQ,AGWIGDEMFIIUAOXYY2QATNBSUGHA,AFSTSLQUV4EVEXWKBOLEFHL2H5YQ,AGAKDNBHY2FKX7I4ACRGILU7QL7A,AFNWJUWJRHCC6HN52KMG5AKZY37Q     7\n",
       "AECPFYFQVRUWC3KGNLJIOREFP5LQ,AGYYVPDD7YG7FYNBXNGXZJT525AQ,AHONIZU3ICIEHQIGQ6R2VFRSBXOQ,AFPHD2CRPDZMWMBL7WXRSVYWS5JA,AEZ346GX3HJ4O4XNRPHCNHXQURMQ,AEPSWFPNECKO34PUC7I56ITGXR6Q,AHWVEHR5DYLVFTO2KF3IZATFQSWQ,AH4QT33M55677I7ISQOAKEQWACYQ     7\n",
       "                                                                                                                                                                                                                                           ..\n",
       "AFGPLYW6L6FYUGQDND7QGCRL2H2Q,AE3W6H2PP2KKMVEDIF4Z2RANULGA,AFERB3TDE3HAUIGGRZAO7LNF7SYA,AEC6SV7YUF3HQVEMSZOXIOJORZ2Q,AHHQF6UWD53IPS32OWDH7PX3LWWA,AEWG4B4DLLS74A5D5D2WYKSH4ZNA,AFYPBI2BVOVJGI2FTGVRG7IPNYTA,AFIOILAIZXRGBCG63U6QWKUJUL6Q     1\n",
       "AFQ44B5ISCXUWKFHZL7HTRTYWZKA,AF3IECP2JCTQZRF55RNIHBLIVL2A,AFLK6ZRFGVUE3QE7RXQXHDOPPJUQ,AFPXGO2U6B5RAACITVCFJZEUNRKQ,AEQRAZQWNHPRGHNIFYNEIKPYOH6A,AE54CJI2T5ADE7M3QPQN7LC7ECTA,AGMN7AH7PCCN7UGWGCPJQLH2SWWA,AEAATGPU3JDB35QPGDBHURZCAH2A     1\n",
       "AE35OI7LDTOKU32IFQ3GQX5AOKFQ,AHT5CRFFKABTHYW4ECKZTQFY46NA,AEXIV3RFI5NFISHPIOIRBFCEMKUQ,AE4ADCFGK4BPHVK426KLAGJIECTA,AHGC4ISYSAWYL3CB4IONRS7WO2AQ,AHQQYHFW6CVRWYWGJ53LNZKKCSZQ,AEJOCAMBYG2VFPAYA67LRSSAMDBQ,AHESOERCB5FRKL7BYJ6QQHK4BMJQ     1\n",
       "AGZCXPBXKXIEQTY4AH7KM6OPQW3Q,AF7IPRBRDY6D4F7XVZW4QZZRI3KQ,AHGJXZZRXZB2T477ZTVMMKDT3LGA,AHXW4TW4TIIXXSXFZXBR2MWZLVQA,AGUQ57PHU2MEG2BIYVXDH5WDDDZA,AH2MCCISNTRUSC5FU5VOYCGL575A,AH4IURQX3DSNH4KLG3MFMVNAR64A,AFNBAIT26TZ4OJCNYY37T6SWDS3A     1\n",
       "AFGW5PT3R6ZAVQR4Y5MWVAKBZAYA,AG7QNJ2SCS5VS5VYYBNV4HDSIJ4Q,AFUDGN5MEXLKUULNTM7Y2G5P7TYA,AHXCDNSXAESERITAFELQABFVNLCA,AGRZD6CHLCUNOLMMIMIHUCG7PIFA,AFQZVGSOSOJHKFQQMCEI4725QEKQ,AEALVGXXIP46OZVXKRUXSDWZJMEA,AGEFL3AY7YXEFZA4ZJU3LP7K7OJQ     1\n",
       "Name: count, Length: 1194, dtype: int64"
      ]
     },
     "execution_count": 25,
     "metadata": {},
     "output_type": "execute_result"
    }
   ],
   "source": [
    "df['user_id'].value_counts()"
   ]
  },
  {
   "cell_type": "code",
   "execution_count": 26,
   "id": "b82638b2-0460-4309-86a1-143ad38b75cc",
   "metadata": {},
   "outputs": [
    {
     "data": {
      "text/plain": [
       "array(['Manav,Adarsh gupta,Sundeep,S.Sayeed Ahmed,jaspreet singh,Khaja moin,Anand,S.ARUMUGAM',\n",
       "       'ArdKn,Nirbhay kumar,Sagar Viswanathan,Asp,Placeholder,BharanI,sonia,Niam',\n",
       "       'Kunal,Himanshu,viswanath,sai niharka,saqib malik,Aashiq,Ramu Challa,Sanjay gupta',\n",
       "       ...,\n",
       "       'Nehal Desai,Danish Parwez,Amazon Customer,Amazon Customer,Pankaj Kumar Singh,Pattabhi udaya kumar,Sandip Bhargava,BATTU SURESHKUMAR',\n",
       "       'Shubham Dubey,E.GURUBARAN,Mayank S.,eusuf khan,ASHISHGAJBE,hirabhai thakarda,khageswar,A.Ramu',\n",
       "       'Rajib,Ajay B,Vikas Kahol,PARDEEP,Anindya Pramanik,Vikas Singh,Harshada Pimple,Saw a.'],\n",
       "      dtype=object)"
      ]
     },
     "execution_count": 26,
     "metadata": {},
     "output_type": "execute_result"
    }
   ],
   "source": [
    "df['user_name'].unique()"
   ]
  },
  {
   "cell_type": "code",
   "execution_count": 27,
   "id": "53c82103-885b-4ae0-8e85-a1bb7341bd60",
   "metadata": {},
   "outputs": [
    {
     "data": {
      "text/plain": [
       "user_name\n",
       "$@|\\|TO$|-|,Sethu madhav,Akash Thakur,Burger Planet,Justice ⚖️,indrajyoti d.,Aditya Kumar,E.C.GEORGE                           10\n",
       "Manav,Adarsh gupta,Sundeep,S.Sayeed Ahmed,jaspreet singh,Khaja moin,Anand,S.ARUMUGAM                                            8\n",
       "Satheesh Kadiam,Pritom Chakraborty,Vishwa,Simranpreet Singh,Saptarshi,Amazon Customer,D.RAGHUL,Dharmendra kumar                 8\n",
       "Omkar dhale,JD,HEMALATHA,Ajwadh a.,amar singh chouhan,Ravi Siddan,Himanshu Goel,Udaykumar                                       7\n",
       "ArdKn,Nirbhay kumar,Sagar Viswanathan,Asp,Placeholder,BharanI,sonia,Niam                                                        7\n",
       "                                                                                                                               ..\n",
       "suraj,Bharanidhar,S.B.Vignesh,Srikanth GR,Hari,Shashi,Palanivel raja N,Pavan Singh                                              1\n",
       "Bhuwaneshwar kathlane,Jainit mukeshbhai Chauhan,Mahesh prajapati,Sonu Kumar,narender,Rajkumar jain,Bani panda,Dhiraj Tiwari     1\n",
       "lucky,SALMAN S,Rahul Singh,INSOLARE ENERGY PVT Ld,Sandeep Kumar Sahu,Amazon Customer,Sudhanshu,Jp                               1\n",
       "Amazonnig,Anurag,p_v_,Anil Kumar,Ignatius Nayan D'Rozario,Amazon Customer,Maulik Aryan,basraj                                   1\n",
       "Rajib,Ajay B,Vikas Kahol,PARDEEP,Anindya Pramanik,Vikas Singh,Harshada Pimple,Saw a.                                            1\n",
       "Name: count, Length: 1194, dtype: int64"
      ]
     },
     "execution_count": 27,
     "metadata": {},
     "output_type": "execute_result"
    }
   ],
   "source": [
    "df['user_name'].value_counts()"
   ]
  },
  {
   "cell_type": "code",
   "execution_count": 28,
   "id": "7cba99b7-1fe9-42d9-b7fd-5a7a75551319",
   "metadata": {},
   "outputs": [
    {
     "data": {
      "text/plain": [
       "array(['R3HXWT0LRP0NMF,R2AJM3LFTLZHFO,R6AQJGUP6P86,R1KD19VHEDV0OR,R3C02RMYQMK6FC,R39GQRVBUZBWGY,R2K9EDOE15QIRJ,R3OI7YT648TL8I',\n",
       "       'RGIQEG07R9HS2,R1SMWZQ86XIN8U,R2J3Y1WL29GWDE,RYGGS0M09S3KY,R17KQRUTAN5DKS,R3AAQGS6HP2QUK,R1HDNOG6TO2CCA,R3PHKXYA5AFEOU',\n",
       "       'R3J3EQQ9TZI5ZJ,R3E7WBGK7ID0KV,RWU79XKQ6I1QF,R25X4TBMPY91LX,R27OK7G99VK0TR,R207CYDCHJJTCJ,R3PCU8XMU173BT,R1IMONDOWRNU5V',\n",
       "       ...,\n",
       "       'R1TLRJVW4STY5I,R2O455KRN493R1,R3Q5MVGBRIAS2G,RDUWK5R7MYO0F,R2PLXU82PLNOS,R3OGEQWZH4DYFA,R5I0WH8YY7K9V,R1MC4M4R6ZDUBE',\n",
       "       'R39Q2Y79MM9SWK,R3079BG1NIH6MB,R29A31ZELTZNJM,RQ7XAO5UTJQZT,R223OFAZGIK4X7,R27WMZV25K3TN1,R302QB4GVL3F8T,RBZRSE5J6HCF3',\n",
       "       'R20RBRZ0WEUJT9,ROKIFK9R2ISSE,R30EEG2FNJSN5I,R2ZC03S4QXOW4Y,R186H8YW34BQD5,R10NC3D321N59G,REKF75G4SOAOX,R2G0ZT4JQX322I'],\n",
       "      dtype=object)"
      ]
     },
     "execution_count": 28,
     "metadata": {},
     "output_type": "execute_result"
    }
   ],
   "source": [
    "df['review_id'].unique()"
   ]
  },
  {
   "cell_type": "code",
   "execution_count": 29,
   "id": "5df59db5-4e34-4209-b001-c0f7a97a41ef",
   "metadata": {},
   "outputs": [
    {
     "data": {
      "text/plain": [
       "review_id\n",
       "R3F4T5TRYPTMIG,R3DQIEC603E7AY,R1O4Z15FD40PV5,RDVX50PD4CTFE,R3H6WKG0TA5CGU,R3Q3L1KP5QWPV3,RU0LU2PAIIME,R20FTANBPFA653      10\n",
       "R3HXWT0LRP0NMF,R2AJM3LFTLZHFO,R6AQJGUP6P86,R1KD19VHEDV0OR,R3C02RMYQMK6FC,R39GQRVBUZBWGY,R2K9EDOE15QIRJ,R3OI7YT648TL8I      8\n",
       "R2K5OD0MEEBTDL,RS1N6TNO33BOK,R6KWBGOKI1N9Y,R30SKUMYLSXXDN,R1EOYHZWCRSV7B,R13JBDK4SAAYFT,RJOU5K9ECNW7Y,R2APPRANV6IERZ       8\n",
       "R3EEUZKKK9J36I,R3HJVYCLYOY554,REDECAZ7AMPQC,R1CLH2ULIVG5U3,R2DMKIBGFKBD6R,RC89B5IAJUTR5,R3B3DDON5FH8DS,R13WAEJDI5RS36      7\n",
       "RGIQEG07R9HS2,R1SMWZQ86XIN8U,R2J3Y1WL29GWDE,RYGGS0M09S3KY,R17KQRUTAN5DKS,R3AAQGS6HP2QUK,R1HDNOG6TO2CCA,R3PHKXYA5AFEOU      7\n",
       "                                                                                                                          ..\n",
       "R9OEDGO6AP6W,R18J04KXIBBB6N,R70MW25QBMRGK,R3AX6PA4E2TM2G,R7HUKVB4XODCQ,R1J8EL6DD8FXI4,R1GYAYF8LG0P4Y,R2O8NMN02QCYQT        1\n",
       "R2SK5PPC2ZKCL5,RD7IHEAUK0KA6,R32GOT9K2GCKQG,R2ODSY8YMSYDBQ,R1GJIXYJ1WCO16,R3F1T36YXCNJUT,R1TWYPGF1F4VJW,R2ZI8M3NTETFJT     1\n",
       "R1JXCQXDJH1CEV,R3C6DZWAYPPVIX,R2RMNGCEK9JTR6,R2TWPQKNMIHDWC,R2GAXBVB8VNNFW,RS8LJM8U4MFL9,R36X9P0X5BIB9V,RC4NQGWR1VSW1      1\n",
       "R3NMIVJ17E0X21,RB5W0IR72WUCL,RYFMIDRTCXL9G,RAXJMWTTGEC3N,R3NIYIIT389DWG,R9X812EYFQOYQ,R3JUK9JGV9M0OZ,R11666SEDDXZ66        1\n",
       "R20RBRZ0WEUJT9,ROKIFK9R2ISSE,R30EEG2FNJSN5I,R2ZC03S4QXOW4Y,R186H8YW34BQD5,R10NC3D321N59G,REKF75G4SOAOX,R2G0ZT4JQX322I      1\n",
       "Name: count, Length: 1194, dtype: int64"
      ]
     },
     "execution_count": 29,
     "metadata": {},
     "output_type": "execute_result"
    }
   ],
   "source": [
    "df['review_id'].value_counts()"
   ]
  },
  {
   "cell_type": "code",
   "execution_count": 30,
   "id": "447fb831-2574-4985-9f8d-e0787bab0472",
   "metadata": {},
   "outputs": [
    {
     "data": {
      "text/plain": [
       "array(['Satisfied,Charging is really fast,Value for money,Product review,Good quality,Good product,Good Product,As of now seems good',\n",
       "       'A Good Braided Cable for Your Type C Device,Good quality product from ambrane,Super cable,As,Good quality,Good product,its good,Good quality for the price but one issue with my unit',\n",
       "       \"Good speed for earlier versions,Good Product,Working good,Good for the price,Good,Worth for money,Working nice,it's a really nice product\",\n",
       "       ...,\n",
       "       'very good,Work but front melt after 2 month,Good one,It is durable,Review.,DEFECTIVE PRODUCT,Nice product,Nice product',\n",
       "       'Fan Speed is slow,Good quality,Good product,good,Old is gold.,Good product,Nice product,Super 💕',\n",
       "       'Works perfect,Ok good product,Nice Product. Recommend it. But cleaning its exterior is cumbersome.,Excellent product✌,A good product for household use,मुझे बिल्कुल भी मजा नहीं आया और वापस कर दिया।,Best product,Good'],\n",
       "      dtype=object)"
      ]
     },
     "execution_count": 30,
     "metadata": {},
     "output_type": "execute_result"
    }
   ],
   "source": [
    "df['review_title'].unique()"
   ]
  },
  {
   "cell_type": "code",
   "execution_count": 31,
   "id": "6369d801-f5c5-4c55-a6a8-7a698fb03980",
   "metadata": {},
   "outputs": [
    {
     "data": {
      "text/plain": [
       "review_title\n",
       "Worked on iPhone 7 and didn’t work on XR,Good one,Dull Physical Looks,Just Buy it,Go for it,About the product,Get charging cable at the price,Working well.                                                                                                        10\n",
       "Satisfied,Charging is really fast,Value for money,Product review,Good quality,Good product,Good Product,As of now seems good                                                                                                                                        8\n",
       "Phone, camera, heating - works for me, may not for all,Good Mobile,Good but not excellent under this budget,Worth the price at 9499,Ok type phone... but unable to make videocall within same service provider.,Phone review,Budget king,Battery backup is good     8\n",
       "Good product,Good one,Nice,Really nice product,Very first time change,Good,Fine product but could be better,Very nice it's charging like jet                                                                                                                        7\n",
       "A Good Braided Cable for Your Type C Device,Good quality product from ambrane,Super cable,As,Good quality,Good product,its good,Good quality for the price but one issue with my unit                                                                               7\n",
       "                                                                                                                                                                                                                                                                   ..\n",
       "Good product,Value for money,Car charger,Good product,A good product- must have accessory for car,Good charger,Good,बहुत ही अच्छा चार्जर है                                                                                                                         1\n",
       "To good,Build material,Super,Good product,Budget bluetooth speaker which serves the purpose of low volume on a phone or laptop,best,It's OK to use in small room. But for Outdoor activities it will not meet our expectations.,Awesome product                     1\n",
       "light weight okay in this price range,Value for money,Good,EASY TO USE,Value for money,this is no soft touch keyboard,Good product in this price range,Budget friendly                                                                                              1\n",
       "Good headphones, the sound is good, not sure about comfort,Just Ok,Budget Entry Level Banger Headset,Good quality product,Good multipoint connectivity. Falls off the ear,Good quality, but battery draining,ANC very bad,Bluetooth not working after 4 month       1\n",
       "Works perfect,Ok good product,Nice Product. Recommend it. But cleaning its exterior is cumbersome.,Excellent product✌,A good product for household use,मुझे बिल्कुल भी मजा नहीं आया और वापस कर दिया।,Best product,Good                                              1\n",
       "Name: count, Length: 1194, dtype: int64"
      ]
     },
     "execution_count": 31,
     "metadata": {},
     "output_type": "execute_result"
    }
   ],
   "source": [
    "df['review_title'].value_counts()"
   ]
  },
  {
   "cell_type": "code",
   "execution_count": 32,
   "id": "10473868-104e-42a0-81d4-8734e6ede55c",
   "metadata": {},
   "outputs": [
    {
     "data": {
      "text/plain": [
       "array(['Looks durable Charging is fine tooNo complains,Charging is really fast, good product.,Till now satisfied with the quality.,This is a good product . The charging speed is slower than the original iPhone cable,Good quality, would recommend,https://m.media-amazon.com/images/W/WEBP_402378-T1/images/I/81---F1ZgHL._SY88.jpg,Product had worked well till date and was having no issue.Cable is also sturdy enough...Have asked for replacement and company is doing the same...,Value for money',\n",
       "       \"I ordered this cable to connect my phone to Android Auto of car. The cable is really strong and the connection ports are really well made. I already has a Micro USB cable from Ambrane and it's still in good shape. I connected my phone to the car using the cable and it got connected well and no issues. I also connected it to the charging port and yes it has Fast Charging support.,It quality is good at this price and the main thing is that i didn't ever thought that this cable will be so long it's good one and charging power is too good and also supports fast charging,Value for money, with extra length👍,Good, working fine,Product quality is good,Good,very good,Bought for my daughter's old phone.Brand new cable it was not charging, I already repacked and requested for replacement.I checked again, and there was some green colour paste/fungus inside the micro USB connector. I cleaned with an alcoholic and starts working again.Checked the ampere of charging speed got around 1400ma-1500ma - not bad, came with braided 1.5m long cable, pretty impressive for the price.Can't blame the manufacturer.But quality issues by the distributor, they might have stored in very humid place.\",\n",
       "       \"Not quite durable and sturdy,https://m.media-amazon.com/images/W/WEBP_402378-T1/images/I/71rIggrbUCL._SY88.jpg,Working good,https://m.media-amazon.com/images/W/WEBP_402378-T1/images/I/61bKp9YO6wL._SY88.jpg,Product,Very nice product,Working well,It's a really nice product\",\n",
       "       ...,\n",
       "       \"plastic but cool body ,u have to find sturdy surface to put it vertically , on plastic stool it vibrate in vertical position ,u need bigger plug point for it ,very fast and effective heating ,it through cold air too ,price is bit high but it's bajaj so good.very good buy.,Using after only 2 months, the front part of this bajaj rx10, room heater melt starting.,Useful in winter, box gets heated which may cause damage but so far so good.,The body flaps look very delicate and did not align well when received. I had to fix them,This Heater is good for a room with 10X10 ft dimension. The best part is 2 years warranty from Bajaj. Personally recommend you to purchase this product to stay stress free.,RECEIVED DEFECTIVE PRODUCT FROM AMAZON SELLER M/S ROYAL ELECTRONICS INDIA.I AM SURPRISED ,HOW AMAZON IS ALLOWING THIS TYPE OF SELLERS ON THEIR PLATFORM.,Nice product,Nice product\",\n",
       "       'I have installed this in my kitchen working fine is just fan speed is very slow could have been faster but not it is slow thats the reason this exhaust smoke very slow but it does exhaust.,Good quality,https://m.media-amazon.com/images/W/WEBP_402378-T1/images/I/61izko3RxDL._SY88.jpg,speed could have been little bit more,,Beat performance this product.,Connecting wire is too short,Super',\n",
       "       'It does it job perfectly..only issue is temp control is not perfect . U need to keep checking the browness of sandwich untill it gets upto ur choise,Product is good, but the control knob is to be be modified cause after the cooking process completes the control knob should be return back to initial starting place. If not that process timer should be given basically. So think well what happens whether didn\\'t had atleast one option.Not a indicator option.,It is a nice product, easy to use. The grilling function is also wonderful. But the exterior metallic finish picks up finger marks and other spots which tend to become permanent. Cleaning them is almost impossible.,Very good product,This is a pretty powerful sandwich maker, for home use. The product looks good, has a sturdy build, and heats up quick. The sandwiches are made pretty quickly, without burning.,बोरोसिल ब्रांड का यह \"सेंडविच मेकर\" देखने में तो अच्छा लगता है मगर इसकी बिल्ड क्वालिटी अच्छी नहीं है।  यह लगभग Rs 3000 के आसपास आता है।  इस प्रकार की बिल्ड क्वालिटी ₹2000 के करीब मिल जाती है तो कोई क्यों ₹1000 अधिक भुगतान करें।  पहले मैंने इसे review देखने के बाद ऑर्डर किया था लेकिन जब घर पर डिलीवरी होने के पश्चात  unboxing करके देखा तो इसकी बिल्ड क्वालिटी कुछ खास नहीं लगी इसलिए अपने पैसे बचाने के लिए मैंने इसे वापस भेज दिया। मैंने इसकी पैकेजिंग, मैनुअल और सैंडविच मेकर की फोटोग्राफ आप सभी से शेयर की है।  आप स्वयं देख के अनुमान लगा सकते हैं।,Recommend work as expected,Its easy tp use'],\n",
       "      dtype=object)"
      ]
     },
     "execution_count": 32,
     "metadata": {},
     "output_type": "execute_result"
    }
   ],
   "source": [
    "df['review_content'].unique()"
   ]
  },
  {
   "cell_type": "code",
   "execution_count": 33,
   "id": "7af0bcb5-d87e-4d92-bf93-bc1e53d9833b",
   "metadata": {},
   "outputs": [
    {
     "data": {
      "text/plain": [
       "<bound method IndexOpsMixin.value_counts of 0       Looks durable Charging is fine tooNo complains...\n",
       "1       I ordered this cable to connect my phone to An...\n",
       "2       Not quite durable and sturdy,https://m.media-a...\n",
       "3       Good product,long wire,Charges good,Nice,I bou...\n",
       "4       Bought this instead of original apple, does th...\n",
       "                              ...                        \n",
       "1460    I received product without spanner,Excellent p...\n",
       "1461    ok,got everything as mentioned but the measuri...\n",
       "1462    plastic but cool body ,u have to find sturdy s...\n",
       "1463    I have installed this in my kitchen working fi...\n",
       "1464    It does it job perfectly..only issue is temp c...\n",
       "Name: review_content, Length: 1465, dtype: object>"
      ]
     },
     "execution_count": 33,
     "metadata": {},
     "output_type": "execute_result"
    }
   ],
   "source": [
    "df['review_content'].value_counts"
   ]
  },
  {
   "cell_type": "code",
   "execution_count": 34,
   "id": "f9df245f-fa7d-4725-b4f7-37807ef9d206",
   "metadata": {},
   "outputs": [
    {
     "data": {
      "text/plain": [
       "array(['https://m.media-amazon.com/images/W/WEBP_402378-T1/images/I/51UsScvHQNL._SX300_SY300_QL70_FMwebp_.jpg',\n",
       "       'https://m.media-amazon.com/images/W/WEBP_402378-T2/images/I/31zOsqQOAOL._SY445_SX342_QL70_FMwebp_.jpg',\n",
       "       'https://m.media-amazon.com/images/W/WEBP_402378-T1/images/I/31IvNJZnmdL._SY445_SX342_QL70_FMwebp_.jpg',\n",
       "       ...,\n",
       "       'https://m.media-amazon.com/images/W/WEBP_402378-T1/images/I/41qmt2a159L._SX300_SY300_QL70_FMwebp_.jpg',\n",
       "       'https://m.media-amazon.com/images/W/WEBP_402378-T1/images/I/51pNg1Zy4+L._SX300_SY300_.jpg',\n",
       "       'https://m.media-amazon.com/images/W/WEBP_402378-T1/images/I/51J2Wk-+c+L._SY300_SX300_.jpg'],\n",
       "      dtype=object)"
      ]
     },
     "execution_count": 34,
     "metadata": {},
     "output_type": "execute_result"
    }
   ],
   "source": [
    "df['img_link'].unique()"
   ]
  },
  {
   "cell_type": "code",
   "execution_count": 35,
   "id": "1bb8d2c8-f352-4930-ac99-5683fb9a7967",
   "metadata": {},
   "outputs": [
    {
     "data": {
      "text/plain": [
       "img_link\n",
       "https://m.media-amazon.com/images/I/413sCRKobNL._SX300_SY300_QL70_ML2_.jpg                               3\n",
       "https://m.media-amazon.com/images/W/WEBP_402378-T1/images/I/51UsScvHQNL._SX300_SY300_QL70_FMwebp_.jpg    2\n",
       "https://m.media-amazon.com/images/I/41jlh3c7UbL._SX300_SY300_QL70_FMwebp_.jpg                            2\n",
       "https://m.media-amazon.com/images/W/WEBP_402378-T2/images/I/41m1oMmTMCL._SX300_SY300_QL70_FMwebp_.jpg    2\n",
       "https://m.media-amazon.com/images/W/WEBP_402378-T2/images/I/31dENZ1gQVL._SX300_SY300_QL70_FMwebp_.jpg    2\n",
       "                                                                                                        ..\n",
       "https://m.media-amazon.com/images/I/3183iGEWksL._SX300_SY300_QL70_ML2_.jpg                               1\n",
       "https://m.media-amazon.com/images/I/41-IPkI1Y5L._SX300_SY300_QL70_ML2_.jpg                               1\n",
       "https://m.media-amazon.com/images/I/412DrCgktiL._SX300_SY300_QL70_ML2_.jpg                               1\n",
       "https://m.media-amazon.com/images/I/41DgrxyBPTL._SX300_SY300_QL70_ML2_.jpg                               1\n",
       "https://m.media-amazon.com/images/W/WEBP_402378-T1/images/I/51J2Wk-+c+L._SY300_SX300_.jpg                1\n",
       "Name: count, Length: 1412, dtype: int64"
      ]
     },
     "execution_count": 35,
     "metadata": {},
     "output_type": "execute_result"
    }
   ],
   "source": [
    "df['img_link'].value_counts()"
   ]
  },
  {
   "cell_type": "code",
   "execution_count": 36,
   "id": "51710900-68ac-40e0-b947-fb8a1e56b8c3",
   "metadata": {},
   "outputs": [
    {
     "data": {
      "text/plain": [
       "array(['https://www.amazon.in/Wayona-Braided-WN3LG1-Syncing-Charging/dp/B07JW9H4J1/ref=sr_1_1?qid=1672909124&s=electronics&sr=1-1',\n",
       "       'https://www.amazon.in/Ambrane-Unbreakable-Charging-Braided-Cable/dp/B098NS6PVG/ref=sr_1_2?qid=1672909124&s=electronics&sr=1-2',\n",
       "       'https://www.amazon.in/Sounce-iPhone-Charging-Compatible-Devices/dp/B096MSW6CT/ref=sr_1_3?qid=1672909124&s=electronics&sr=1-3',\n",
       "       ...,\n",
       "       'https://www.amazon.in/Bajaj-RX-10-2000-Watt-Convector/dp/B009P2LIL4/ref=sr_1_504?qid=1672923617&s=kitchen&sr=1-504',\n",
       "       'https://www.amazon.in/Havells-Ventilair-230mm-Exhaust-Grey/dp/B00J5DYCCA/ref=sr_1_505?qid=1672923617&s=kitchen&sr=1-505',\n",
       "       'https://www.amazon.in/Borosil-Jumbo-1000-Watt-Grill-Sandwich/dp/B01486F4G6/ref=sr_1_506?qid=1672923617&s=kitchen&sr=1-506'],\n",
       "      dtype=object)"
      ]
     },
     "execution_count": 36,
     "metadata": {},
     "output_type": "execute_result"
    }
   ],
   "source": [
    "df['product_link'].unique()"
   ]
  },
  {
   "cell_type": "code",
   "execution_count": 37,
   "id": "5252b193-e723-4e5b-a1a8-228aded3e6b8",
   "metadata": {},
   "outputs": [
    {
     "data": {
      "text/plain": [
       "product_link\n",
       "https://www.amazon.in/Wayona-Braided-WN3LG1-Syncing-Charging/dp/B07JW9H4J1/ref=sr_1_1?qid=1672909124&s=electronics&sr=1-1                    1\n",
       "https://www.amazon.in/Camel-Oil-Pastel-Reusable-Plastic/dp/B00LY12TH6/ref=sr_1_448?qid=1672903017&s=computers&sr=1-448                       1\n",
       "https://www.amazon.in/Essentials-Reusable-Double-Organizer-Length/dp/B07R99NBVB/ref=sr_1_444?qid=1672903017&s=computers&sr=1-444             1\n",
       "https://www.amazon.in/Tukzer-Foldable-Adjustable-Compatible-Smartphones/dp/B08MWJTST6/ref=sr_1_442?qid=1672903017&s=computers&sr=1-442       1\n",
       "https://www.amazon.in/HP-Charger-Adapter-Pavilion-Black/dp/B01NBX5RSB/ref=sr_1_441?qid=1672903017&s=computers&sr=1-441                       1\n",
       "                                                                                                                                            ..\n",
       "https://www.amazon.in/Noise-ColorFit-Bluetooth-instacharge-Functional/dp/B0BGSV43WY/ref=sr_1_172?qid=1672895799&s=electronics&sr=1-172       1\n",
       "https://www.amazon.in/Beetel-Smartphone-Charging-480Mbps-Xcd-C12/dp/B09NL4DJ2Z/ref=sr_1_170?qid=1672895799&s=electronics&sr=1-170            1\n",
       "https://www.amazon.in/STRIFF-Flexible-Silicone-Protector-Computers/dp/B09Z6WH2N1/ref=sr_1_169?qid=1672895799&s=electronics&sr=1-169          1\n",
       "https://www.amazon.in/Fire-Boltt-Smartwatch-Bluetooth-Calling-Assistance/dp/B09YV3K34W/ref=sr_1_168?qid=1672895791&s=electronics&sr=1-168    1\n",
       "https://www.amazon.in/Borosil-Jumbo-1000-Watt-Grill-Sandwich/dp/B01486F4G6/ref=sr_1_506?qid=1672923617&s=kitchen&sr=1-506                    1\n",
       "Name: count, Length: 1465, dtype: int64"
      ]
     },
     "execution_count": 37,
     "metadata": {},
     "output_type": "execute_result"
    }
   ],
   "source": [
    "df['product_link'].value_counts()"
   ]
  },
  {
   "cell_type": "code",
   "execution_count": 38,
   "id": "6d9c18ce-72d9-41d3-8fc4-ff6b34fd75f7",
   "metadata": {},
   "outputs": [],
   "source": [
    "df.drop(['product_id','rating_count','user_id','user_name','review_id','review_title','review_content'],axis=1,inplace=True)"
   ]
  },
  {
   "cell_type": "code",
   "execution_count": 39,
   "id": "04bd9477-e3ce-42b2-89ba-32eea92a3e64",
   "metadata": {},
   "outputs": [
    {
     "data": {
      "text/plain": [
       "product_name           0\n",
       "category               0\n",
       "discounted_price       0\n",
       "actual_price           0\n",
       "discount_percentage    0\n",
       "rating                 0\n",
       "about_product          0\n",
       "img_link               0\n",
       "product_link           0\n",
       "dtype: int64"
      ]
     },
     "execution_count": 39,
     "metadata": {},
     "output_type": "execute_result"
    }
   ],
   "source": [
    "df.isnull().sum()"
   ]
  },
  {
   "cell_type": "code",
   "execution_count": 40,
   "id": "a898bc73-3501-41be-8257-cb02e7ed45f1",
   "metadata": {},
   "outputs": [
    {
     "name": "stdout",
     "output_type": "stream",
     "text": [
      "<class 'pandas.core.frame.DataFrame'>\n",
      "RangeIndex: 1465 entries, 0 to 1464\n",
      "Data columns (total 9 columns):\n",
      " #   Column               Non-Null Count  Dtype \n",
      "---  ------               --------------  ----- \n",
      " 0   product_name         1465 non-null   object\n",
      " 1   category             1465 non-null   object\n",
      " 2   discounted_price     1465 non-null   object\n",
      " 3   actual_price         1465 non-null   object\n",
      " 4   discount_percentage  1465 non-null   object\n",
      " 5   rating               1465 non-null   object\n",
      " 6   about_product        1465 non-null   object\n",
      " 7   img_link             1465 non-null   object\n",
      " 8   product_link         1465 non-null   object\n",
      "dtypes: object(9)\n",
      "memory usage: 103.1+ KB\n"
     ]
    }
   ],
   "source": [
    "df.info()"
   ]
  },
  {
   "cell_type": "code",
   "execution_count": 41,
   "id": "59fafbbe-1f66-4ff4-b7f9-3690eece0796",
   "metadata": {},
   "outputs": [],
   "source": [
    "df['discount_percentage']=df['discount_percentage'].str.replace(\"₹\",'')\n",
    "df['discount_percentage']=df['discount_percentage'].str.replace(\",\",'')\n",
    "df['discount_percentage']=df['discount_percentage'].str.replace(\"%\", '')\n",
    "df['discount_percentage']=df['discount_percentage'].astype('float64')\n",
    "\n",
    "df['actual_price']=df['actual_price'].str.replace(\"₹\",'')\n",
    "df['actual_price']=df['actual_price'].str.replace(\",\",'')\n",
    "df['actual_price']=df['actual_price'].astype('float')"
   ]
  },
  {
   "cell_type": "code",
   "execution_count": 42,
   "id": "687d107b-22f6-43c4-b897-b3b08a5a73ae",
   "metadata": {},
   "outputs": [],
   "source": [
    "df['discounted_price']=df['discounted_price'].str.replace(\"₹\",'')\n",
    "df['discounted_price']=df['discounted_price'].str.replace(\",\",'')\n",
    "df['discounted_price']=df['discounted_price'].astype('float64')\n",
    "\n",
    "df['rating']=df['rating'].str.replace(\"|\",'0')\n",
    "df['rating']=df['rating'].astype('float')"
   ]
  },
  {
   "cell_type": "code",
   "execution_count": 43,
   "id": "680dfa1d-5778-47d2-987e-8b43afc165f2",
   "metadata": {},
   "outputs": [
    {
     "name": "stdout",
     "output_type": "stream",
     "text": [
      "<class 'pandas.core.frame.DataFrame'>\n",
      "RangeIndex: 1465 entries, 0 to 1464\n",
      "Data columns (total 9 columns):\n",
      " #   Column               Non-Null Count  Dtype  \n",
      "---  ------               --------------  -----  \n",
      " 0   product_name         1465 non-null   object \n",
      " 1   category             1465 non-null   object \n",
      " 2   discounted_price     1465 non-null   float64\n",
      " 3   actual_price         1465 non-null   float64\n",
      " 4   discount_percentage  1465 non-null   float64\n",
      " 5   rating               1465 non-null   float64\n",
      " 6   about_product        1465 non-null   object \n",
      " 7   img_link             1465 non-null   object \n",
      " 8   product_link         1465 non-null   object \n",
      "dtypes: float64(4), object(5)\n",
      "memory usage: 103.1+ KB\n"
     ]
    }
   ],
   "source": [
    "df.info()"
   ]
  },
  {
   "cell_type": "code",
   "execution_count": 44,
   "id": "f96b14dc-568e-4ea6-9d03-1c1f0fc40209",
   "metadata": {},
   "outputs": [
    {
     "data": {
      "text/plain": [
       "product_name           0\n",
       "category               0\n",
       "discounted_price       0\n",
       "actual_price           0\n",
       "discount_percentage    0\n",
       "rating                 0\n",
       "about_product          0\n",
       "img_link               0\n",
       "product_link           0\n",
       "dtype: int64"
      ]
     },
     "execution_count": 44,
     "metadata": {},
     "output_type": "execute_result"
    }
   ],
   "source": [
    "df.isnull().sum()"
   ]
  },
  {
   "cell_type": "code",
   "execution_count": 45,
   "id": "19815d18-5441-45de-906b-4cdbe37683a1",
   "metadata": {},
   "outputs": [
    {
     "data": {
      "text/plain": [
       "0       False\n",
       "1       False\n",
       "2       False\n",
       "3       False\n",
       "4       False\n",
       "        ...  \n",
       "1460    False\n",
       "1461    False\n",
       "1462    False\n",
       "1463    False\n",
       "1464    False\n",
       "Length: 1465, dtype: bool"
      ]
     },
     "execution_count": 45,
     "metadata": {},
     "output_type": "execute_result"
    }
   ],
   "source": [
    "df.duplicated()"
   ]
  },
  {
   "cell_type": "code",
   "execution_count": 46,
   "id": "2889033a-baf4-4971-9e10-a44f8e50b3d6",
   "metadata": {},
   "outputs": [],
   "source": [
    "continous = ['discounted_price','actual_price','discount_percentage','rating']\n",
    "discrete_catagorical = ['product_name','category','about_product','img_link','product_link']"
   ]
  },
  {
   "cell_type": "code",
   "execution_count": 47,
   "id": "9a8f4541-53aa-42f8-a575-129c034398d7",
   "metadata": {},
   "outputs": [
    {
     "data": {
      "text/html": [
       "<div>\n",
       "<style scoped>\n",
       "    .dataframe tbody tr th:only-of-type {\n",
       "        vertical-align: middle;\n",
       "    }\n",
       "\n",
       "    .dataframe tbody tr th {\n",
       "        vertical-align: top;\n",
       "    }\n",
       "\n",
       "    .dataframe thead th {\n",
       "        text-align: right;\n",
       "    }\n",
       "</style>\n",
       "<table border=\"1\" class=\"dataframe\">\n",
       "  <thead>\n",
       "    <tr style=\"text-align: right;\">\n",
       "      <th></th>\n",
       "      <th>discounted_price</th>\n",
       "      <th>actual_price</th>\n",
       "      <th>discount_percentage</th>\n",
       "      <th>rating</th>\n",
       "    </tr>\n",
       "  </thead>\n",
       "  <tbody>\n",
       "    <tr>\n",
       "      <th>count</th>\n",
       "      <td>1465.000000</td>\n",
       "      <td>1465.000000</td>\n",
       "      <td>1465.000000</td>\n",
       "      <td>1465.000000</td>\n",
       "    </tr>\n",
       "    <tr>\n",
       "      <th>mean</th>\n",
       "      <td>3125.310874</td>\n",
       "      <td>5444.990635</td>\n",
       "      <td>47.691468</td>\n",
       "      <td>4.093788</td>\n",
       "    </tr>\n",
       "    <tr>\n",
       "      <th>std</th>\n",
       "      <td>6944.304394</td>\n",
       "      <td>10874.826864</td>\n",
       "      <td>21.635905</td>\n",
       "      <td>0.310598</td>\n",
       "    </tr>\n",
       "    <tr>\n",
       "      <th>min</th>\n",
       "      <td>39.000000</td>\n",
       "      <td>39.000000</td>\n",
       "      <td>0.000000</td>\n",
       "      <td>0.000000</td>\n",
       "    </tr>\n",
       "    <tr>\n",
       "      <th>25%</th>\n",
       "      <td>325.000000</td>\n",
       "      <td>800.000000</td>\n",
       "      <td>32.000000</td>\n",
       "      <td>4.000000</td>\n",
       "    </tr>\n",
       "    <tr>\n",
       "      <th>50%</th>\n",
       "      <td>799.000000</td>\n",
       "      <td>1650.000000</td>\n",
       "      <td>50.000000</td>\n",
       "      <td>4.100000</td>\n",
       "    </tr>\n",
       "    <tr>\n",
       "      <th>75%</th>\n",
       "      <td>1999.000000</td>\n",
       "      <td>4295.000000</td>\n",
       "      <td>63.000000</td>\n",
       "      <td>4.300000</td>\n",
       "    </tr>\n",
       "    <tr>\n",
       "      <th>max</th>\n",
       "      <td>77990.000000</td>\n",
       "      <td>139900.000000</td>\n",
       "      <td>94.000000</td>\n",
       "      <td>5.000000</td>\n",
       "    </tr>\n",
       "  </tbody>\n",
       "</table>\n",
       "</div>"
      ],
      "text/plain": [
       "       discounted_price   actual_price  discount_percentage       rating\n",
       "count       1465.000000    1465.000000          1465.000000  1465.000000\n",
       "mean        3125.310874    5444.990635            47.691468     4.093788\n",
       "std         6944.304394   10874.826864            21.635905     0.310598\n",
       "min           39.000000      39.000000             0.000000     0.000000\n",
       "25%          325.000000     800.000000            32.000000     4.000000\n",
       "50%          799.000000    1650.000000            50.000000     4.100000\n",
       "75%         1999.000000    4295.000000            63.000000     4.300000\n",
       "max        77990.000000  139900.000000            94.000000     5.000000"
      ]
     },
     "execution_count": 47,
     "metadata": {},
     "output_type": "execute_result"
    }
   ],
   "source": [
    "df[continous].describe()"
   ]
  },
  {
   "cell_type": "code",
   "execution_count": 48,
   "id": "62363d0c-82e0-4b0c-905c-4c318f6edda4",
   "metadata": {},
   "outputs": [
    {
     "data": {
      "image/png": "[encoded data removed]",
      "text/plain": [
       "<Figure size 640x480 with 1 Axes>"
      ]
     },
     "metadata": {},
     "output_type": "display_data"
    }
   ],
   "source": [
    "plt.boxplot(df[continous])\n",
    "plt.show()"
   ]
  },
  {
   "cell_type": "code",
   "execution_count": 49,
   "id": "225bc4d2-c1ea-45c1-b132-35cdc75d50c6",
   "metadata": {},
   "outputs": [
    {
     "name": "stdout",
     "output_type": "stream",
     "text": [
      "Q1: 325.0\n",
      "Q3: 1999.0\n",
      "IQR: 1674.0\n",
      "lower_limit: -2186.0\n",
      "upper_limit: 4510.0\n"
     ]
    }
   ],
   "source": [
    "\n",
    "Q1 = df[\"discounted_price\"].quantile(0.25)\n",
    "print(\"Q1:\",Q1)\n",
    "\n",
    "Q3 = df[\"discounted_price\"].quantile(0.75)\n",
    "print(\"Q3:\",Q3)\n",
    "\n",
    "IQR = Q3 - Q1\n",
    "print(\"IQR:\",IQR)\n",
    "\n",
    "lower_limit = Q1 - (IQR*1.5)\n",
    "print(\"lower_limit:\",lower_limit)\n",
    "\n",
    "upper_limit = Q3 + (IQR*1.5)\n",
    "print(\"upper_limit:\",upper_limit)"
   ]
  },
  {
   "cell_type": "code",
   "execution_count": 50,
   "id": "47846117-d0d5-42e1-b907-8c6ed417c183",
   "metadata": {},
   "outputs": [],
   "source": [
    "df[\"discounted_price\"] = df[\"discounted_price\"].clip(lower = -2186.0, upper =4510.0)"
   ]
  },
  {
   "cell_type": "code",
   "execution_count": 51,
   "id": "8f8f8d5b-a6bb-42da-aab0-08d40dce5f3e",
   "metadata": {},
   "outputs": [
    {
     "data": {
      "image/png": "[encoded data removed]",
      "text/plain": [
       "<Figure size 640x480 with 1 Axes>"
      ]
     },
     "metadata": {},
     "output_type": "display_data"
    }
   ],
   "source": [
    "plt.boxplot(df[\"discounted_price\"])\n",
    "plt.show()"
   ]
  },
  {
   "cell_type": "code",
   "execution_count": 52,
   "id": "befa673a-b119-45ff-a659-54638111d0fa",
   "metadata": {},
   "outputs": [
    {
     "name": "stdout",
     "output_type": "stream",
     "text": [
      "Q1: 800.0\n",
      "Q3: 4295.0\n",
      "IQR: 3495.0\n",
      "lower_limit: -4442.5\n",
      "upper_limit: 9537.5\n"
     ]
    },
    {
     "data": {
      "image/png": "[encoded data removed]",
      "text/plain": [
       "<Figure size 640x480 with 1 Axes>"
      ]
     },
     "metadata": {},
     "output_type": "display_data"
    }
   ],
   "source": [
    "Q1 = df[\"actual_price\"].quantile(0.25)\n",
    "print(\"Q1:\",Q1)\n",
    "\n",
    "Q3 = df[\"actual_price\"].quantile(0.75)\n",
    "print(\"Q3:\",Q3)\n",
    "\n",
    "IQR = Q3 - Q1\n",
    "print(\"IQR:\",IQR)\n",
    "\n",
    "lower_limit = Q1 - (IQR*1.5)\n",
    "print(\"lower_limit:\",lower_limit)\n",
    "\n",
    "upper_limit = Q3 + (IQR*1.5)\n",
    "print(\"upper_limit:\",upper_limit)\n",
    "\n",
    "df[\"actual_price\"] = df[\"actual_price\"].clip(lower = -2186.0, upper =4510.0)\n",
    "plt.boxplot(df[\"actual_price\"])\n",
    "plt.show()"
   ]
  },
  {
   "cell_type": "code",
   "execution_count": 53,
   "id": "29d1c80e-643c-4adf-bf08-f567f7c09df6",
   "metadata": {},
   "outputs": [
    {
     "name": "stdout",
     "output_type": "stream",
     "text": [
      "Q1: 4.0\n",
      "Q3: 4.3\n",
      "IQR: 0.2999999999999998\n",
      "lower_limit: 3.5500000000000003\n",
      "upper_limit: 4.75\n"
     ]
    },
    {
     "data": {
      "image/png": "[encoded data removed]",
      "text/plain": [
       "<Figure size 640x480 with 1 Axes>"
      ]
     },
     "metadata": {},
     "output_type": "display_data"
    }
   ],
   "source": [
    "Q1 = df[\"rating\"].quantile(0.25)\n",
    "print(\"Q1:\",Q1)\n",
    "\n",
    "Q3 = df[\"rating\"].quantile(0.75)\n",
    "print(\"Q3:\",Q3)\n",
    "\n",
    "IQR = Q3 - Q1\n",
    "print(\"IQR:\",IQR)\n",
    "\n",
    "lower_limit = Q1 - (IQR*1.5)\n",
    "print(\"lower_limit:\",lower_limit)\n",
    "\n",
    "upper_limit = Q3 + (IQR*1.5)\n",
    "print(\"upper_limit:\",upper_limit)\n",
    "\n",
    "df[\"rating\"] = df[\"rating\"].clip(lower = 3.5500000000000003, upper =4.75)\n",
    "plt.boxplot(df[\"rating\"])\n",
    "plt.show()"
   ]
  },
  {
   "cell_type": "code",
   "execution_count": 54,
   "id": "8822bfd2-88f0-4bc7-9ee4-98f8fde93133",
   "metadata": {},
   "outputs": [],
   "source": [
    "df.to_excel('cleaned.xlsx', index=False)"
   ]
  },
  {
   "cell_type": "code",
   "execution_count": null,
   "id": "af5d30c6-24b3-434d-a400-d7df95131d54",
   "metadata": {},
   "outputs": [],
   "source": []
  }
 ],
 "metadata": {
  "kernelspec": {
   "display_name": "Python 3 (ipykernel)",
   "language": "python",
   "name": "python3"
  },
  "language_info": {
   "codemirror_mode": {
    "name": "ipython",
    "version": 3
   },
   "file_extension": ".py",
   "mimetype": "text/x-python",
   "name": "python",
   "nbconvert_exporter": "python",
   "pygments_lexer": "ipython3",
   "version": "3.11.7"
  }
 },
 "nbformat": 4,
 "nbformat_minor": 5
}
